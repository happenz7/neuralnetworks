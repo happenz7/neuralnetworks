{
  "cells": [
    {
      "cell_type": "markdown",
      "metadata": {
        "id": "d5PC-OolgkMz"
      },
      "source": [
        "# Neural Networks Coursework "
      ]
    },
    {
      "cell_type": "markdown",
      "metadata": {
        "id": "EoBzzClOg1_K"
      },
      "source": [
        "## Data Loading "
      ]
    },
    {
      "cell_type": "code",
      "execution_count": 1,
      "metadata": {
        "colab": {
          "base_uri": "https://localhost:8080/"
        },
        "id": "_v645GDxgWPy",
        "outputId": "5c918265-3891-4832-c28b-ed76f7ce4675"
      },
      "outputs": [
        {
          "output_type": "stream",
          "name": "stdout",
          "text": [
            "Mounted at /content/drive\n"
          ]
        }
      ],
      "source": [
        "#Mounting google drive to easily access data\n",
        "from google.colab import drive\n",
        "drive.mount('/content/drive')"
      ]
    },
    {
      "cell_type": "markdown",
      "metadata": {
        "id": "JxKKMlwJkGGG"
      },
      "source": [
        "Imports and external Libraries "
      ]
    },
    {
      "cell_type": "code",
      "execution_count": 2,
      "metadata": {
        "colab": {
          "base_uri": "https://localhost:8080/"
        },
        "id": "HUXzMotBkFQP",
        "outputId": "f1714480-ce24-4bbc-9631-8165e880c8d4"
      },
      "outputs": [
        {
          "output_type": "stream",
          "name": "stdout",
          "text": [
            "Collecting torchviz\n",
            "  Downloading torchviz-0.0.2.tar.gz (4.9 kB)\n",
            "Requirement already satisfied: torch in /usr/local/lib/python3.7/dist-packages (from torchviz) (1.11.0+cu113)\n",
            "Requirement already satisfied: graphviz in /usr/local/lib/python3.7/dist-packages (from torchviz) (0.10.1)\n",
            "Requirement already satisfied: typing-extensions in /usr/local/lib/python3.7/dist-packages (from torch->torchviz) (4.2.0)\n",
            "Building wheels for collected packages: torchviz\n",
            "  Building wheel for torchviz (setup.py) ... \u001b[?25l\u001b[?25hdone\n",
            "  Created wheel for torchviz: filename=torchviz-0.0.2-py3-none-any.whl size=4150 sha256=26ca2a033ec723de0e9a205bcac9cd205b375df19706c9cd73ef4f862eec7dae\n",
            "  Stored in directory: /root/.cache/pip/wheels/04/38/f5/dc4f85c3909051823df49901e72015d2d750bd26b086480ec2\n",
            "Successfully built torchviz\n",
            "Installing collected packages: torchviz\n",
            "Successfully installed torchviz-0.0.2\n"
          ]
        }
      ],
      "source": [
        "#various imports\n",
        "\n",
        "import matplotlib.pyplot as plt\n",
        "import pandas as pd\n",
        "import numpy as np\n",
        "\n",
        "import matplotlib.pyplot as plt \n",
        "import seaborn as sns\n",
        "import pandas as pd\n",
        "import torch\n",
        "import torchvision\n",
        "import torchvision.transforms as transforms\n",
        "from tqdm import notebook\n",
        "!pip install torchviz"
      ]
    },
    {
      "cell_type": "markdown",
      "metadata": {
        "id": "Cb83LtIYkOT5"
      },
      "source": [
        "Loading files"
      ]
    },
    {
      "cell_type": "code",
      "source": [
        "# Runs code on the best available Processor\n",
        "device = torch.device(\"cuda:0\" if torch.cuda.is_available() else \"cpu\")\n",
        "torch.cuda.is_available()\n",
        "\n",
        "# And let's initialize the model.\n",
        "#model = C2FC3(num_classes).to(device)"
      ],
      "metadata": {
        "id": "68BF8pF91kGD",
        "colab": {
          "base_uri": "https://localhost:8080/"
        },
        "outputId": "6b72cd31-b6af-4c82-c207-f94b5c1f02b6"
      },
      "execution_count": 3,
      "outputs": [
        {
          "output_type": "execute_result",
          "data": {
            "text/plain": [
              "True"
            ]
          },
          "metadata": {},
          "execution_count": 3
        }
      ]
    },
    {
      "cell_type": "code",
      "execution_count": 4,
      "metadata": {
        "colab": {
          "base_uri": "https://localhost:8080/",
          "height": 174,
          "referenced_widgets": [
            "38ebeadd937e46be94318e935f926b4f",
            "871ee40dfdc9445eb231d89fe0969c39",
            "fa634e5aeac8430b93eb33fd8e6e23ea",
            "3ee7ca61536d4ae2bba7e4f6a2de1c12",
            "bf339bdd8e634c9c9e96328f1f7fa29f",
            "81f2da93c89e4386ab1a3d9cd2126ea9",
            "9eb56b0a837e43c3b19d20b5ff6a8198",
            "3602e3da4016417a83f623fb335d1662",
            "0d4664684cbc42148e159ae7a7e16010",
            "f0fa6380de99417f94105099cf3709e9",
            "353e15200b79435dbc47785fa52a3d75"
          ]
        },
        "id": "_v3oqfPmLPVL",
        "outputId": "86401c9b-afa9-436a-fe07-7fa08e062982"
      },
      "outputs": [
        {
          "output_type": "stream",
          "name": "stdout",
          "text": [
            "Downloading https://www.cs.toronto.edu/~kriz/cifar-10-python.tar.gz to ./data/cifar-10-python.tar.gz\n"
          ]
        },
        {
          "output_type": "display_data",
          "data": {
            "text/plain": [
              "  0%|          | 0/170498071 [00:00<?, ?it/s]"
            ],
            "application/vnd.jupyter.widget-view+json": {
              "version_major": 2,
              "version_minor": 0,
              "model_id": "38ebeadd937e46be94318e935f926b4f"
            }
          },
          "metadata": {}
        },
        {
          "output_type": "stream",
          "name": "stdout",
          "text": [
            "Extracting ./data/cifar-10-python.tar.gz to ./data\n",
            "40000\n",
            "10000\n",
            "10000\n",
            "2500\n",
            "Files already downloaded and verified\n"
          ]
        }
      ],
      "source": [
        "import torch\n",
        "import torchvision\n",
        "import torchvision.transforms as transforms\n",
        "#Includes input normalisation, colour jitter (colour operations), horizontalflips, \n",
        "#rotations and affine -- for training set -> includes validation\n",
        "transform_train = transforms.Compose(\n",
        "    [transforms.ToTensor(),\n",
        "     transforms.Normalize((0.5, 0.5, 0.5), (0.5, 0.5, 0.5)), \n",
        "     transforms.ColorJitter(brightness=0.2, contrast=0.3, saturation=0.3),  \n",
        "     transforms.RandomHorizontalFlip(), # FLips images\n",
        "     transforms.RandomRotation(10),     #Rotates the image to a specified angel\n",
        "     transforms.RandomAffine(0, shear=10, scale=(0.8,1.2)) #Zoom and angle changes\n",
        "     ])\n",
        "#transform for test_set - also normalized to have consistent images\n",
        "transform = transforms.Compose(\n",
        "    [transforms.ToTensor(),\n",
        "     transforms.Normalize((0.5, 0.5, 0.5), (0.5, 0.5, 0.5))])\n",
        "\n",
        "\n",
        "#specified batch size\n",
        "batch_size = 4\n",
        "\n",
        "#Epoch size\n",
        "num_epochs = 10\n",
        "\n",
        "#trainset initialized here using pytorch function\n",
        "train_set = torchvision.datasets.CIFAR10(root='./data', train=True,\n",
        "                                        download=True, transform=transform_train)\n",
        "\n",
        "#train validation split with trainloader\n",
        "#40.000 training images and 10.000 validation images remain\n",
        "\n",
        "torch.manual_seed(43)\n",
        "train_size = int(0.8 * len(train_set))\n",
        "val_size = len(train_set) - train_size\n",
        "train_data, val_data = torch.utils.data.random_split(train_set, [train_size, val_size])\n",
        "\n",
        "print(len(train_data))\n",
        "print(len(val_data))\n",
        "\n",
        "trainloader = torch.utils.data.DataLoader(train_data, batch_size=batch_size,\n",
        "                                          shuffle=True, num_workers=2, pin_memory=True)\n",
        "print(len(trainloader))\n",
        "\n",
        "valloader = torch.utils.data.DataLoader(val_data, batch_size=batch_size,\n",
        "                                          shuffle=True, num_workers=2, pin_memory=True)\n",
        "print(len(valloader))\n",
        "\n",
        "#same with test set\n",
        "test_set = torchvision.datasets.CIFAR10(root='./data', train=False,\n",
        "                                       download=True, transform=transform)\n",
        "testloader = torch.utils.data.DataLoader(test_set, batch_size=batch_size,\n",
        "                                         shuffle=False, num_workers=2, pin_memory=True)\n",
        "#print(len(testloader))\n",
        "#10 classes - 10 potential predicitions by model\n",
        "classes = ('airplane', 'automobile', 'bird', 'cat', 'deer', 'dog', 'frog', 'horse', 'ship', 'truck')\n"
      ]
    },
    {
      "cell_type": "code",
      "execution_count": null,
      "metadata": {
        "id": "bTtmmayce8DA"
      },
      "outputs": [],
      "source": [
        "train_set.data"
      ]
    },
    {
      "cell_type": "markdown",
      "metadata": {
        "id": "qaRpJrpqRBoF"
      },
      "source": [
        "Printing out example image"
      ]
    },
    {
      "cell_type": "code",
      "execution_count": 5,
      "metadata": {
        "colab": {
          "base_uri": "https://localhost:8080/",
          "height": 156
        },
        "id": "XlItulHKZHpV",
        "outputId": "a9c63530-3ce4-41ac-ae5e-55d83073527a"
      },
      "outputs": [
        {
          "output_type": "display_data",
          "data": {
            "text/plain": [
              "<Figure size 432x288 with 1 Axes>"
            ],
            "image/png": "[encoded data removed]"
          },
          "metadata": {
            "needs_background": "light"
          }
        },
        {
          "output_type": "stream",
          "name": "stdout",
          "text": [
            "ship  bird  cat   airplane\n"
          ]
        }
      ],
      "source": [
        "def imshow(img):\n",
        "    img = img / 2 + 0.5     # unnormalize\n",
        "    npimg = img.numpy()\n",
        "    plt.imshow(np.transpose(npimg, (1, 2, 0)))\n",
        "    plt.show()\n",
        "\n",
        "\n",
        "# random training images\n",
        "dataiter = iter(trainloader)\n",
        "images, labels = dataiter.next()\n",
        "\n",
        "# show images\n",
        "imshow(torchvision.utils.make_grid(images))\n",
        "# print labels\n",
        "print(' '.join(f'{classes[labels[j]]:5s}' for j in range(batch_size)))"
      ]
    },
    {
      "cell_type": "code",
      "execution_count": null,
      "metadata": {
        "colab": {
          "base_uri": "https://localhost:8080/",
          "height": 266
        },
        "id": "4nvUelHihELu",
        "outputId": "823ba1d6-c6e9-4831-d43d-596098d0cddb"
      },
      "outputs": [
        {
          "output_type": "display_data",
          "data": {
            "text/plain": [
              "<Figure size 432x288 with 1 Axes>"
            ],
            "image/png": "[encoded data removed]"
          },
          "metadata": {
            "needs_background": "light"
          }
        }
      ],
      "source": [
        "#example image using imshow function\n",
        "imshow(images[1])"
      ]
    },
    {
      "cell_type": "code",
      "execution_count": null,
      "metadata": {
        "colab": {
          "base_uri": "https://localhost:8080/"
        },
        "id": "qEUCAh_OhHgB",
        "outputId": "029b6cc6-83bc-4645-8a71-2c471e279726"
      },
      "outputs": [
        {
          "data": {
            "text/plain": [
              "torch.Size([3, 32, 32])"
            ]
          },
          "execution_count": 7,
          "metadata": {},
          "output_type": "execute_result"
        }
      ],
      "source": [
        "#understanding image shape\n",
        "images[1].shape"
      ]
    },
    {
      "cell_type": "markdown",
      "metadata": {
        "id": "jEMAhH1WheMf"
      },
      "source": [
        "## Training and Models"
      ]
    },
    {
      "cell_type": "markdown",
      "metadata": {
        "id": "TsIbkReZN7Jb"
      },
      "source": [
        "### Model 1"
      ]
    },
    {
      "cell_type": "markdown",
      "source": [
        "#### old model"
      ],
      "metadata": {
        "id": "3EHRZYUlOaAK"
      }
    },
    {
      "cell_type": "code",
      "execution_count": null,
      "metadata": {
        "id": "rgkdpX68JTqK"
      },
      "outputs": [],
      "source": [
        "import torch.nn as nn\n",
        "import torch.nn.functional as F\n",
        "\n",
        "#2 Hidden Layers - simple model --> with dropout --> later added batch normalisation\n",
        "class Net1(nn.Module):\n",
        "    def __init__(self):\n",
        "        super().__init__()\n",
        "        self.conv1 = nn.Conv2d(3, 6, 5)\n",
        "        self.pool = nn.MaxPool2d(2, 2)\n",
        "        self.batch1 = nn.BatchNorm2d(6, eps=1e-05, momentum=0.4, affine=True)\n",
        "        self.drop = nn.Dropout(p=0.5, inplace=False)\n",
        "        #self.pool = nn.AvgPool2d(2, 2)\n",
        "        self.conv2 = nn.Conv2d(6, 16, 5)\n",
        "        self.pool = nn.MaxPool2d(2, 2)\n",
        "        self.batch2 = nn.BatchNorm2d(16, eps=1e-05, momentum=0.4, affine=True)\n",
        "        self.drop = nn.Dropout(p=0.5, inplace=False)\n",
        "        #self.pool = nn.AvgPool2d(2, 2)\n",
        "        #from convolutional to linear layer - required further calculations\n",
        "        self.fc1 = nn.Linear(16 * 5 * 5, 10)\n",
        "        #self.drop = nn.Dropout(p=0.5, inplace=False)\n",
        "        \n",
        "\n",
        "    def forward(self, x):\n",
        "        #x = F.relu(self.conv1(x))\n",
        "        #x = F.relu(self.conv2(x))\n",
        "        x = self.pool(F.relu(self.conv1(x)))\n",
        "        x = self.batch1(x)\n",
        "        x = self.drop(x)\n",
        "        x = self.pool(F.relu(self.conv2(x)))\n",
        "        x = self.batch2(x)\n",
        "        x = self.drop(x)\n",
        "        #x = self.pool(F.relu(self.conv3(x)))\n",
        "        x = torch.flatten(x, 1) # flatten all dimensions excluding batch\n",
        "        x = F.relu(self.fc1(x))\n",
        "        return x\n",
        "\n",
        "\n",
        "model1 = Net1()"
      ]
    },
    {
      "cell_type": "markdown",
      "source": [
        "#### new model"
      ],
      "metadata": {
        "id": "WJOpaJetOfkV"
      }
    },
    {
      "cell_type": "code",
      "source": [
        "import torch.nn as nn\n",
        "import torch.nn.functional as F\n",
        "\n",
        "#3 Hidden Layers - fully linear layer - just utilises dropout - most accurate out of 3 4-layer models\n",
        "class Net21(nn.Module):\n",
        "    def __init__(self):\n",
        "        super().__init__()\n",
        "        self.fc1 = nn.Linear(32*32 * 3, 1024)\n",
        "        #self.drop1 = nn.Dropout(p=0.5, inplace=False)\n",
        "        self.fc2 = nn.Linear(1024, 512)\n",
        "        #self.drop2 = nn.Dropout(p=0.5, inplace=False)\n",
        "        self.fc3 = nn.Linear(512, 64)\n",
        "        #self.drop3 = nn.Dropout(p=0.5, inplace=False)\n",
        "        self.fc4 = nn.Linear(64, 16)\n",
        "        #self.drop4 = nn.Dropout(p=0.8, inplace=False)\n",
        "        self.fc5 = nn.Linear(16, 10)\n",
        "        #self.drop5 = nn.Dropout(p=0.8, inplace=False)\n",
        "        \n",
        "\n",
        "    def forward(self, x):\n",
        "        x = torch.flatten(x, 1) # flatten all dimensions except batch\n",
        "        x = F.softmax(self.fc1(x), dim =1)\n",
        "        #x = self.drop1(x)\n",
        "        x = F.softmax(self.fc2(x), dim =1)\n",
        "        #x = self.drop2(x)\n",
        "        x = F.softmax(self.fc3(x), dim =1)\n",
        "        #x = self.drop3(x)\n",
        "        x = F.softmax(self.fc4(x), dim=1)\n",
        "        #x = self.drop4(x)\n",
        "        x = F.softmax(self.fc5(x), dim=1)\n",
        "        #x = self.drop5(x)\n",
        "        return x\n",
        "\n",
        "\n",
        "model21 = Net21()"
      ],
      "metadata": {
        "id": "Hc7923e_JF63"
      },
      "execution_count": null,
      "outputs": []
    },
    {
      "cell_type": "code",
      "source": [
        "#3 Hidden Layers - features to convolutional layers and multiple batchnorm\n",
        "#and dropout operations includes average pooling operations as well\n",
        "import torch.nn as nn\n",
        "import torch.nn.functional as F\n",
        "class Net22(nn.Module):\n",
        "    def __init__(self):\n",
        "        super().__init__()\n",
        "        self.conv1 = nn.Conv2d(3, 6, kernel_size=(5, 5))\n",
        "        self.pool = nn.MaxPool2d(2, 2)\n",
        "        #self.pool = nn.AvgPool2d(2,2)\n",
        "        self.batch1 = nn.BatchNorm2d(6, eps=1e-05, momentum=0.4, affine=True)\n",
        "        self.drop1 = nn.Dropout(p=0.5, inplace=False)\n",
        "      \n",
        "        self.conv2 = nn.Conv2d(6, 16, kernel_size=(5, 5))\n",
        "        self.pool = nn.MaxPool2d(2, 2)\n",
        "        #self.pool = nn.AvgPool2d(2,2)\n",
        "        self.batch2 = nn.BatchNorm2d(16, eps=1e-05, momentum=0.4, affine=True)\n",
        "        self.drop2 = nn.Dropout(p=0.5, inplace=False)\n",
        "\n",
        "        self.fc1 = nn.Linear(16 * 5 * 5, 256)  # 5*5 from image dimension\n",
        "        self.fc2 = nn.Linear(256,128)\n",
        "        self.fc3 = nn.Linear(128, 10)\n",
        "        self.drop5 = nn.Dropout(p=0.5, inplace=False)   \n",
        "        \n",
        "\n",
        "    def forward(self, x):\n",
        "        \n",
        "        x = self.pool(F.relu(self.conv1(x)))\n",
        "        x = self.batch1(x)\n",
        "        x = self.drop1(x)\n",
        "        x = self.pool(F.relu(self.conv2(x)))\n",
        "        x = self.batch2(x)\n",
        "        x = self.drop2(x)\n",
        "        #x = F.relu(self.conv3(x))\n",
        "        #x = self.batch3(x)\n",
        "        #x = self.drop3(x)\n",
        "        #x = F.relu(self.conv4(x))\n",
        "        #x = self.batch4(x)\n",
        "        #x = self.drop4(x)\n",
        "        #x = x.reshape(x.shape[0], -1)\n",
        "        #x = x.view(-1, 5*5*128)\n",
        "        x = torch.flatten(x, 1)\n",
        "        x = F.softmax(self.fc1(x), dim=1)\n",
        "        x = F.softmax(self.fc2(x), dim=1)\n",
        "        x = F.softmax(self.fc3(x), dim=1)\n",
        "        x = self.drop5(x)\n",
        "        return x\n",
        "\n",
        "\n",
        "model22 = Net22().to(device)"
      ],
      "metadata": {
        "id": "E8QGLfN2JX9j"
      },
      "execution_count": null,
      "outputs": []
    },
    {
      "cell_type": "code",
      "execution_count": null,
      "metadata": {
        "colab": {
          "base_uri": "https://localhost:8080/"
        },
        "id": "mlIA6Xi7OZsC",
        "outputId": "407cd244-be3f-4acb-e6da-b94b3c87ba59"
      },
      "outputs": [
        {
          "output_type": "execute_result",
          "data": {
            "text/plain": [
              "<bound method Module.type of Net22(\n",
              "  (conv1): Conv2d(3, 6, kernel_size=(5, 5), stride=(1, 1))\n",
              "  (pool): MaxPool2d(kernel_size=2, stride=2, padding=0, dilation=1, ceil_mode=False)\n",
              "  (batch1): BatchNorm2d(6, eps=1e-05, momentum=0.4, affine=True, track_running_stats=True)\n",
              "  (drop1): Dropout(p=0.5, inplace=False)\n",
              "  (conv2): Conv2d(6, 16, kernel_size=(5, 5), stride=(1, 1))\n",
              "  (batch2): BatchNorm2d(16, eps=1e-05, momentum=0.4, affine=True, track_running_stats=True)\n",
              "  (drop2): Dropout(p=0.5, inplace=False)\n",
              "  (fc1): Linear(in_features=400, out_features=256, bias=True)\n",
              "  (fc2): Linear(in_features=256, out_features=128, bias=True)\n",
              "  (fc3): Linear(in_features=128, out_features=10, bias=True)\n",
              "  (drop5): Dropout(p=0.5, inplace=False)\n",
              ")>"
            ]
          },
          "metadata": {},
          "execution_count": 9
        }
      ],
      "source": [
        "model22.type"
      ]
    },
    {
      "cell_type": "code",
      "execution_count": null,
      "metadata": {
        "colab": {
          "base_uri": "https://localhost:8080/"
        },
        "id": "KGTcnZv0OeWY",
        "outputId": "180ac816-0a82-4b5b-ddd4-5028b29cb698"
      },
      "outputs": [
        {
          "output_type": "stream",
          "name": "stdout",
          "text": [
            "----------------------------------------------------------------\n",
            "        Layer (type)               Output Shape         Param #\n",
            "================================================================\n",
            "            Conv2d-1            [-1, 6, 28, 28]             456\n",
            "         MaxPool2d-2            [-1, 6, 14, 14]               0\n",
            "       BatchNorm2d-3            [-1, 6, 14, 14]              12\n",
            "           Dropout-4            [-1, 6, 14, 14]               0\n",
            "            Conv2d-5           [-1, 16, 10, 10]           2,416\n",
            "         MaxPool2d-6             [-1, 16, 5, 5]               0\n",
            "       BatchNorm2d-7             [-1, 16, 5, 5]              32\n",
            "           Dropout-8             [-1, 16, 5, 5]               0\n",
            "            Linear-9                  [-1, 256]         102,656\n",
            "           Linear-10                  [-1, 128]          32,896\n",
            "           Linear-11                   [-1, 10]           1,290\n",
            "          Dropout-12                   [-1, 10]               0\n",
            "================================================================\n",
            "Total params: 139,758\n",
            "Trainable params: 139,758\n",
            "Non-trainable params: 0\n",
            "----------------------------------------------------------------\n",
            "Input size (MB): 0.01\n",
            "Forward/backward pass size (MB): 0.09\n",
            "Params size (MB): 0.53\n",
            "Estimated Total Size (MB): 0.63\n",
            "----------------------------------------------------------------\n"
          ]
        }
      ],
      "source": [
        "#model summary --> helps with understanding layer composition \n",
        "from torchvision import models\n",
        "from torchsummary import summary\n",
        "summary(model22,(3, 32, 32))"
      ]
    },
    {
      "cell_type": "code",
      "execution_count": null,
      "metadata": {
        "id": "CChXvIzAOqct"
      },
      "outputs": [],
      "source": [
        "#using torchviz library - print out the structure and exact dimensional \n",
        "#operations with network architecture\n",
        "from torchviz import make_dot\n",
        "x = torch.randn(6, 3, 32, 32)\n",
        "y = model22(x)\n",
        "make_dot(y.mean(), params=dict(model22.named_parameters()))"
      ]
    },
    {
      "cell_type": "code",
      "execution_count": null,
      "metadata": {
        "id": "jHy0No7gOU2m"
      },
      "outputs": [],
      "source": [
        "import torch.optim as optim\n",
        "from torch.optim.lr_scheduler import LambdaLR, StepLR, MultiStepLR, ExponentialLR, ReduceLROnPlateau\n",
        "criterion = nn.CrossEntropyLoss()\n",
        "#first attempt with Schocastic Gradient Descent optimizer\n",
        "optimizer1 = optim.SGD(model22.parameters(), lr=0.001, momentum=0.9, dampening=0, weight_decay=1e-4, nesterov=False)\n",
        "#optimizer1 = optim.Adam(model22.parameters(),lr=0.05, betas=(0.9, 0.999), eps=1e-08, weight_decay=1e-8, amsgrad=False)\n",
        "  #optimizer1 = optim.RMSprop(model1.parameters(), lr=0.01, alpha=0.99, eps=1e-08, weight_decay=0, momentum=0, centered=False)\n",
        "scheduler = ExponentialLR(optimizer1, gamma=0.9)\n",
        "#Using MultistepScheduler to define milestone for changes in learning rate\n",
        "#scheduler = MultiStepLR(optimizer1, milestones=[0,1], gamma=0.1)"
      ]
    },
    {
      "cell_type": "code",
      "source": [
        "total_epochs = notebook.tqdm(range(num_epochs))\n",
        "train_graph_losses = []\n",
        "train_acc = []\n",
        "for epoch in range(num_epochs):  \n",
        "    running_loss = 0.0\n",
        "    correct = 0.0\n",
        "    total = 0  \n",
        "    for i, data in enumerate(trainloader):\n",
        "        inputs,labels = data\n",
        "        inputs, labels = inputs.to(device), labels.to(device)\n",
        "\n",
        "        optimizer1.zero_grad()\n",
        "\n",
        "        outputs = model22(inputs)\n",
        "        loss = criterion(outputs, labels)\n",
        "        loss.backward()\n",
        "        optimizer1.step()\n",
        "        \n",
        "        running_loss += loss.item()\n",
        "        _, predicted = torch.max(outputs.data, 1)   \n",
        "        total += labels.size(0)\n",
        "        correct += (predicted == labels).sum().item()\n",
        "        mean_train_accuracy = (100 * correct / total) \n",
        "        running_loss=running_loss/len(trainloader)\n",
        "\n",
        "    train_graph_losses.append(running_loss)\n",
        "    train_acc.append(mean_train_accuracy) \n",
        "\n",
        "    scheduler.step()  \n",
        "    \n",
        "print('Validation Accuracy: %d %%' % (mean_train_accuracy)) \n",
        "print('Validation Loss:'  ,running_loss)      \n",
        "print('Finished Training')"
      ],
      "metadata": {
        "id": "ZBDJvoGRW2Hb"
      },
      "execution_count": null,
      "outputs": []
    },
    {
      "cell_type": "markdown",
      "source": [
        "train data =  50\n",
        "traindata.dataset = 40% - 39%\n",
        "total = "
      ],
      "metadata": {
        "id": "BhEgo9-Qa61F"
      }
    },
    {
      "cell_type": "markdown",
      "source": [
        "#### Model 1 (Validation)"
      ],
      "metadata": {
        "id": "i8oflGU1NPfO"
      }
    },
    {
      "cell_type": "code",
      "source": [
        "#Validation data step - similar in structure to training data\n",
        "#No gradient operations as specified by model.eval and torch.no_grad()\n",
        "val_acc = []\n",
        "val_graph_losses = []     \n",
        "for epoch in total_epochs:  #looping through dataset \n",
        "  correct = 0                                               \n",
        "  total = 0                                                 \n",
        "  val_running_loss = 0.0   \n",
        "  model22.eval()                                              \n",
        "  with torch.no_grad():                                     \n",
        "    for i,data in enumerate(valloader,0):\n",
        "      inputs, labels = data  \n",
        "      inputs, labels = inputs.to(device), labels.to(device)\n",
        "       \n",
        "                               \n",
        "      outputs = model22(inputs)                           \n",
        "      loss = criterion(outputs, labels)       \n",
        "      val_running_loss += loss.item()          \n",
        "      _, predicted = torch.max(outputs.data, 1)         \n",
        "      total += labels.size(0)                        \n",
        "      correct += (predicted == labels).sum().item()    \n",
        "\n",
        "      #Storing loss and accuracy values  \n",
        "        \n",
        "    val_running_loss=running_loss/len(trainloader)          \n",
        "    mean_val_accuracy = (100 * correct / total)   \n",
        "\n",
        "    val_graph_losses.append(running_loss) \n",
        "    val_acc.append(mean_val_accuracy)      \n",
        "\n",
        "    print('Train Loss: %.3f | Accuracy: %.3f'%(running_loss,mean_train_accuracy))      \n",
        "           \n",
        "  print('Validation Accuracy: %d %%' % (mean_val_accuracy))     \n",
        "\n",
        "print('Accuracy of the network on the 10000 val images: {} %'.format(100 * correct / total))"
      ],
      "metadata": {
        "id": "aOa02A1QuH_g",
        "colab": {
          "base_uri": "https://localhost:8080/"
        },
        "outputId": "f18810dd-9af4-4519-a0c5-dee98b1dc10e"
      },
      "execution_count": null,
      "outputs": [
        {
          "output_type": "stream",
          "name": "stdout",
          "text": [
            "Train Loss: 0.576 | Accuracy: 10.280\n",
            "Validation Accuracy: 10 %\n",
            "Train Loss: 0.576 | Accuracy: 10.280\n",
            "Validation Accuracy: 10 %\n",
            "Train Loss: 0.576 | Accuracy: 10.280\n",
            "Validation Accuracy: 10 %\n",
            "Train Loss: 0.576 | Accuracy: 10.280\n",
            "Validation Accuracy: 10 %\n",
            "Train Loss: 0.576 | Accuracy: 10.280\n",
            "Validation Accuracy: 10 %\n",
            "Train Loss: 0.576 | Accuracy: 10.280\n",
            "Validation Accuracy: 10 %\n",
            "Train Loss: 0.576 | Accuracy: 10.280\n",
            "Validation Accuracy: 10 %\n",
            "Train Loss: 0.576 | Accuracy: 10.280\n",
            "Validation Accuracy: 10 %\n",
            "Train Loss: 0.576 | Accuracy: 10.280\n",
            "Validation Accuracy: 10 %\n",
            "Train Loss: 0.576 | Accuracy: 10.280\n",
            "Validation Accuracy: 10 %\n",
            "Accuracy of the network on the 10000 val images: 10.28 %\n"
          ]
        }
      ]
    },
    {
      "cell_type": "code",
      "source": [
        "#Ploting Loss\n",
        "plt.figure(figsize=(10,5))\n",
        "plt.title(\"Training and Validation Loss\")\n",
        "plt.plot(train_graph_losses, color =\"g\")\n",
        "plt.plot(val_graph_losses, color = \"m\")\n",
        "plt.legend()\n",
        "plt.xlabel(\"Iterations\")\n",
        "plt.ylabel(\"Loss\")\n",
        "plt.legend(['train', 'val'])\n",
        "plt.show()"
      ],
      "metadata": {
        "colab": {
          "base_uri": "https://localhost:8080/",
          "height": 368
        },
        "id": "zkS56VFwNdQS",
        "outputId": "4007d3db-0160-4077-c650-021798bf6db7"
      },
      "execution_count": null,
      "outputs": [
        {
          "output_type": "stream",
          "name": "stderr",
          "text": [
            "No handles with labels found to put in legend.\n"
          ]
        },
        {
          "output_type": "display_data",
          "data": {
            "text/plain": [
              "<Figure size 720x360 with 1 Axes>"
            ],
            "image/png": "[encoded data removed]"
          },
          "metadata": {
            "needs_background": "light"
          }
        }
      ]
    },
    {
      "cell_type": "code",
      "source": [
        "#Plotting accuracy\n",
        "plt.figure(figsize=(10,5))\n",
        "plt.title(\"Training and Validation Accuracy\")\n",
        "plt.plot(train_acc, color =\"g\")\n",
        "plt.plot(val_acc, color = \"m\")\n",
        "plt.legend()\n",
        "plt.xlabel(\"Iterations\")\n",
        "plt.ylabel(\"Accuracy in %\")\n",
        "plt.legend(['train', 'val'])\n",
        "plt.show()"
      ],
      "metadata": {
        "colab": {
          "base_uri": "https://localhost:8080/",
          "height": 368
        },
        "id": "IYu8YzMKIZ9O",
        "outputId": "6be233cc-60fc-4f46-a0df-029aac99268a"
      },
      "execution_count": null,
      "outputs": [
        {
          "output_type": "stream",
          "name": "stderr",
          "text": [
            "No handles with labels found to put in legend.\n"
          ]
        },
        {
          "output_type": "display_data",
          "data": {
            "text/plain": [
              "<Figure size 720x360 with 1 Axes>"
            ],
            "image/png": "[encoded data removed]"
          },
          "metadata": {
            "needs_background": "light"
          }
        }
      ]
    },
    {
      "cell_type": "markdown",
      "metadata": {
        "id": "aeTIOGY1N-5w"
      },
      "source": [
        "### Model 2"
      ]
    },
    {
      "cell_type": "code",
      "source": [
        "#2 Hidden Layers Layers - fully linear layer - just utilises dropout - most accurate out of 3 4-layer models\n",
        "import torch.nn as nn\n",
        "import torch.nn.functional as F\n",
        "class Net32(nn.Module):\n",
        "    def __init__(self):\n",
        "        super().__init__()\n",
        "        self.fc1 = nn.Linear(32*32 * 3, 1024)\n",
        "        self.drop = nn.Dropout(p=0.5, inplace=False)\n",
        "        self.fc2 = nn.Linear(1024, 512)\n",
        "        self.drop = nn.Dropout(p=0.5, inplace=False)\n",
        "        self.fc3 = nn.Linear(512, 128)\n",
        "        self.drop = nn.Dropout(p=0.5, inplace=False)\n",
        "        self.fc4 = nn.Linear(128, 10)\n",
        "        self.drop = nn.Dropout(p=0.5, inplace=False)\n",
        "        \n",
        "\n",
        "    def forward(self, x):\n",
        "        x = torch.flatten(x, 1) # flatten all dimensions except batch\n",
        "        x = F.relu(self.fc1(x))\n",
        "        x = self.drop(x)\n",
        "        x = F.relu(self.fc2(x))\n",
        "        x = self.drop(x)\n",
        "        x = F.relu(self.fc3(x))\n",
        "        x = self.drop(x)\n",
        "        x = F.relu(self.fc4(x))\n",
        "        x = self.drop(x)\n",
        "        return x\n",
        "\n",
        "\n",
        "model32 = Net32().to(device)"
      ],
      "metadata": {
        "id": "70szeyS6Wk9h"
      },
      "execution_count": 13,
      "outputs": []
    },
    {
      "cell_type": "code",
      "source": [
        "import torch.nn as nn\n",
        "import torch.nn.functional as F\n",
        "\n",
        "# 2 Hidden Layer model - fully convolutional - using dropout and batchnorm\n",
        "class Net31(nn.Module):\n",
        "    def __init__(self):\n",
        "        super().__init__()\n",
        "        self.conv1 = nn.Conv2d(3, 6, kernel_size=(3, 3), stride=1, padding=0)\n",
        "        self.pool = nn.MaxPool2d(2, 2)\n",
        "        self.batch1 = nn.BatchNorm2d(6, eps=1e-05, momentum=0.4, affine=True)\n",
        "        self.drop = nn.Dropout(p=0.5, inplace=False)\n",
        "\n",
        "        self.conv2 = nn.Conv2d(6, 16, kernel_size=(3, 3), stride=1, padding=0)\n",
        "        self.pool = nn.MaxPool2d(2, 2)\n",
        "        self.batch2 = nn.BatchNorm2d(16, eps=1e-05, momentum=0.4, affine=True)\n",
        "        self.drop = nn.Dropout(p=0.5, inplace=False)\n",
        "\n",
        "        self.conv3 = nn.Conv2d(16, 64, kernel_size=(3, 3), stride=1, padding=0)\n",
        "        #self.pool = nn.MaxPool2d(2, 2)\n",
        "        self.batch3 = nn.BatchNorm2d(64, eps=1e-05, momentum=0.4, affine=True)\n",
        "        self.drop = nn.Dropout(p=0.5, inplace=False)\n",
        "\n",
        "        self.conv4 = nn.Conv2d(64, 10, kernel_size=(3, 3), stride=1, padding=0)\n",
        "        #self.batch3 = nn.BatchNorm2d(10, eps=1e-05, momentum=0.4, affine=True)\n",
        "        self.drop = nn.Dropout(p=0.5, inplace=False)\n",
        "        #self.pool = nn.MaxPool2d(2, 2)\n",
        "        #self.fc1 = nn.Linear(32 * 10 * 10, 10)\n",
        "        \n",
        "\n",
        "    def forward(self, x):\n",
        "        x = self.pool(F.relu(self.conv1(x)))\n",
        "        x = self.batch1(x)\n",
        "        x = self.drop(x)\n",
        "        x = self.pool(F.relu(self.conv2(x)))\n",
        "        x = self.batch2(x)\n",
        "        x = self.drop(x)\n",
        "        x = F.relu(self.conv3(x))\n",
        "        x = self.drop(x)\n",
        "        x = F.relu(self.conv4(x))\n",
        "        x = torch.flatten(x, 1) # flatten all dimensions except batch\n",
        "        x = self.drop(x)\n",
        "        return x\n",
        "\n",
        "\n",
        "model31 = Net31().to(device)"
      ],
      "metadata": {
        "id": "la3Pwk-cWgWq"
      },
      "execution_count": 17,
      "outputs": []
    },
    {
      "cell_type": "code",
      "source": [
        "import torch.nn as nn\n",
        "import torch.nn.functional as F\n",
        "\n",
        "#2 Hidden Layers - 3 convolutional layers and 1 fully connected (linear) layer\n",
        "class Net33(nn.Module):\n",
        "    def __init__(self):\n",
        "        super().__init__()\n",
        "        self.conv1 = nn.Conv2d(3, 16, kernel_size=(3, 3), stride=1, padding=0)\n",
        "        self.pool = nn.MaxPool2d(2, 2)\n",
        "        self.batch1 = nn.BatchNorm2d(16, eps=1e-05, momentum=0.4, affine=True)\n",
        "        self.drop = nn.Dropout(p=0.5, inplace=False)\n",
        "\n",
        "        self.conv2 = nn.Conv2d(16, 32, kernel_size=(3, 3), stride=1, padding=0)\n",
        "        self.pool = nn.MaxPool2d(2, 2)\n",
        "        self.batch2 = nn.BatchNorm2d(32, eps=1e-05, momentum=0.4, affine=True)\n",
        "        self.drop = nn.Dropout(p=0.5, inplace=False)\n",
        "\n",
        "        self.conv3 = nn.Conv2d(32, 64, kernel_size=(3, 3), stride=1, padding=0)\n",
        "        #self.pool = nn.MaxPool2d(2, 2)\n",
        "        self.batch3 = nn.BatchNorm2d(64, eps=1e-05, momentum=0.4, affine=True)\n",
        "        self.drop = nn.Dropout(p=0.5, inplace=False)\n",
        "       \n",
        "        self.fc1 = nn.Linear(4*4*64, 10) # I/p image size is 32*32, after 3 MaxPooling layers it reduces to 4*4 and 64 because our last conv layer has 64 outputs. Output nodes is 500\n",
        "        self.drop = nn.Dropout(p=0.5, inplace=False)\n",
        "        \n",
        "        \n",
        "\n",
        "    def forward(self, x):\n",
        "        x = self.pool(F.relu(self.conv1(x)))\n",
        "        x = self.batch1(x)\n",
        "        x = self.drop(x)\n",
        "        x = self.pool(F.relu(self.conv2(x)))\n",
        "        x = self.batch2(x)\n",
        "        x = self.drop(x)\n",
        "        x = F.relu(self.conv3(x))\n",
        "        x = self.batch3(x)\n",
        "        x = self.drop(x)\n",
        "        x = x.reshape(x.shape[0], -1)\n",
        "        x = x.view(-1, 4*4*64)\n",
        "        x = F.softmax(self.fc1(x), dim=1)\n",
        "        x = self.drop(x)\n",
        "        return x\n",
        "\n",
        "\n",
        "model33 = Net33().to(device)"
      ],
      "metadata": {
        "id": "W5qhsuiFWbW7"
      },
      "execution_count": 18,
      "outputs": []
    },
    {
      "cell_type": "code",
      "execution_count": 14,
      "metadata": {
        "id": "9Aqss5iVOZCG",
        "colab": {
          "base_uri": "https://localhost:8080/"
        },
        "outputId": "8748a547-b9ce-4580-a32c-e994fa6cfbfe"
      },
      "outputs": [
        {
          "output_type": "execute_result",
          "data": {
            "text/plain": [
              "<bound method Module.type of Net32(\n",
              "  (fc1): Linear(in_features=3072, out_features=1024, bias=True)\n",
              "  (drop): Dropout(p=0.5, inplace=False)\n",
              "  (fc2): Linear(in_features=1024, out_features=512, bias=True)\n",
              "  (fc3): Linear(in_features=512, out_features=128, bias=True)\n",
              "  (fc4): Linear(in_features=128, out_features=10, bias=True)\n",
              ")>"
            ]
          },
          "metadata": {},
          "execution_count": 14
        }
      ],
      "source": [
        "model32.type"
      ]
    },
    {
      "cell_type": "code",
      "execution_count": 15,
      "metadata": {
        "id": "GLvCf8POOcRB",
        "colab": {
          "base_uri": "https://localhost:8080/"
        },
        "outputId": "e56b9f1b-3bda-4ec4-e85c-c6886391f98b"
      },
      "outputs": [
        {
          "output_type": "stream",
          "name": "stdout",
          "text": [
            "----------------------------------------------------------------\n",
            "        Layer (type)               Output Shape         Param #\n",
            "================================================================\n",
            "            Linear-1                 [-1, 1024]       3,146,752\n",
            "           Dropout-2                 [-1, 1024]               0\n",
            "            Linear-3                  [-1, 512]         524,800\n",
            "           Dropout-4                  [-1, 512]               0\n",
            "            Linear-5                  [-1, 128]          65,664\n",
            "           Dropout-6                  [-1, 128]               0\n",
            "            Linear-7                   [-1, 10]           1,290\n",
            "           Dropout-8                   [-1, 10]               0\n",
            "================================================================\n",
            "Total params: 3,738,506\n",
            "Trainable params: 3,738,506\n",
            "Non-trainable params: 0\n",
            "----------------------------------------------------------------\n",
            "Input size (MB): 0.01\n",
            "Forward/backward pass size (MB): 0.03\n",
            "Params size (MB): 14.26\n",
            "Estimated Total Size (MB): 14.30\n",
            "----------------------------------------------------------------\n"
          ]
        }
      ],
      "source": [
        "#model summary --> helps with understanding layer composition \n",
        "#to see different models change model name according to different model classes \n",
        "from torchvision import models\n",
        "from torchsummary import summary\n",
        "summary(model32,(3, 32, 32))"
      ]
    },
    {
      "cell_type": "code",
      "source": [
        "summary(model31,(3, 32, 32))"
      ],
      "metadata": {
        "colab": {
          "base_uri": "https://localhost:8080/"
        },
        "id": "dR_MNMMe-2U2",
        "outputId": "c7a31609-657b-4525-df6f-c132705ff978"
      },
      "execution_count": 19,
      "outputs": [
        {
          "output_type": "stream",
          "name": "stdout",
          "text": [
            "----------------------------------------------------------------\n",
            "        Layer (type)               Output Shape         Param #\n",
            "================================================================\n",
            "            Conv2d-1            [-1, 6, 30, 30]             168\n",
            "         MaxPool2d-2            [-1, 6, 15, 15]               0\n",
            "       BatchNorm2d-3            [-1, 6, 15, 15]              12\n",
            "           Dropout-4            [-1, 6, 15, 15]               0\n",
            "            Conv2d-5           [-1, 16, 13, 13]             880\n",
            "         MaxPool2d-6             [-1, 16, 6, 6]               0\n",
            "       BatchNorm2d-7             [-1, 16, 6, 6]              32\n",
            "           Dropout-8             [-1, 16, 6, 6]               0\n",
            "            Conv2d-9             [-1, 64, 4, 4]           9,280\n",
            "          Dropout-10             [-1, 64, 4, 4]               0\n",
            "           Conv2d-11             [-1, 10, 2, 2]           5,770\n",
            "          Dropout-12                   [-1, 40]               0\n",
            "================================================================\n",
            "Total params: 16,142\n",
            "Trainable params: 16,142\n",
            "Non-trainable params: 0\n",
            "----------------------------------------------------------------\n",
            "Input size (MB): 0.01\n",
            "Forward/backward pass size (MB): 0.12\n",
            "Params size (MB): 0.06\n",
            "Estimated Total Size (MB): 0.20\n",
            "----------------------------------------------------------------\n"
          ]
        }
      ]
    },
    {
      "cell_type": "code",
      "source": [
        "summary(model33,(3, 32, 32))"
      ],
      "metadata": {
        "colab": {
          "base_uri": "https://localhost:8080/"
        },
        "id": "H3I5REDw-2xC",
        "outputId": "19efc0c1-d2e1-472a-dd4d-5f8229f9114d"
      },
      "execution_count": 20,
      "outputs": [
        {
          "output_type": "stream",
          "name": "stdout",
          "text": [
            "----------------------------------------------------------------\n",
            "        Layer (type)               Output Shape         Param #\n",
            "================================================================\n",
            "            Conv2d-1           [-1, 16, 30, 30]             448\n",
            "         MaxPool2d-2           [-1, 16, 15, 15]               0\n",
            "       BatchNorm2d-3           [-1, 16, 15, 15]              32\n",
            "           Dropout-4           [-1, 16, 15, 15]               0\n",
            "            Conv2d-5           [-1, 32, 13, 13]           4,640\n",
            "         MaxPool2d-6             [-1, 32, 6, 6]               0\n",
            "       BatchNorm2d-7             [-1, 32, 6, 6]              64\n",
            "           Dropout-8             [-1, 32, 6, 6]               0\n",
            "            Conv2d-9             [-1, 64, 4, 4]          18,496\n",
            "      BatchNorm2d-10             [-1, 64, 4, 4]             128\n",
            "          Dropout-11             [-1, 64, 4, 4]               0\n",
            "           Linear-12                   [-1, 10]          10,250\n",
            "          Dropout-13                   [-1, 10]               0\n",
            "================================================================\n",
            "Total params: 34,058\n",
            "Trainable params: 34,058\n",
            "Non-trainable params: 0\n",
            "----------------------------------------------------------------\n",
            "Input size (MB): 0.01\n",
            "Forward/backward pass size (MB): 0.28\n",
            "Params size (MB): 0.13\n",
            "Estimated Total Size (MB): 0.43\n",
            "----------------------------------------------------------------\n"
          ]
        }
      ]
    },
    {
      "cell_type": "code",
      "execution_count": null,
      "metadata": {
        "id": "s7h8Dgj7OpqM"
      },
      "outputs": [],
      "source": [
        "#using torchviz library - print out the structure and exact dimensional \n",
        "#operations with network architecture\n",
        "from torchviz import make_dot\n",
        "x = torch.randn(6, 3, 32, 32)\n",
        "y = model32(x)\n",
        "make_dot(y.mean(), params=dict(model32.named_parameters()))"
      ]
    },
    {
      "cell_type": "code",
      "execution_count": 23,
      "metadata": {
        "id": "zsrIoAwKOUQn"
      },
      "outputs": [],
      "source": [
        "#Repeated code snippet - See Model 1 Testing for more comments\n",
        "import torch.optim as optim\n",
        "from torch.optim.lr_scheduler import LambdaLR, StepLR, MultiStepLR, ExponentialLR, ReduceLROnPlateau\n",
        "criterion = nn.CrossEntropyLoss()\n",
        "#first attempt with Schocastic Gradient Descent optimizer\n",
        "optimizer2 = optim.SGD(model32.parameters(), lr=0.001, momentum=0.9)\n",
        "#optimizer2 = optim.Adam(model2.parameters(),lr=0.001, betas=(0.9, 0.999), eps=1e-08, weight_decay=0, amsgrad=False, maximize=False)\n",
        "#optimizer2 = optim.RMSprop(model2.parameters(), lr=0.01, alpha=0.99, eps=1e-08, weight_decay=0, momentum=0, centered=False)\n",
        "#Normal ExponentialScheduler - no multistep with milestones\n",
        "scheduler = ExponentialLR(optimizer2, gamma=0.9)"
      ]
    },
    {
      "cell_type": "code",
      "execution_count": 27,
      "metadata": {
        "id": "jhHHj7txOwSn",
        "colab": {
          "base_uri": "https://localhost:8080/"
        },
        "outputId": "dd474663-dff3-4d11-96dd-b2f0b842f2f0"
      },
      "outputs": [
        {
          "output_type": "stream",
          "name": "stdout",
          "text": [
            "[1,  2000] loss: 2.292\n",
            "Train Accuracy: 12 %\n",
            "[1,  4000] loss: 2.266\n",
            "Train Accuracy: 14 %\n",
            "[1,  6000] loss: 2.252\n",
            "Train Accuracy: 15 %\n",
            "[1,  8000] loss: 2.243\n",
            "Train Accuracy: 16 %\n",
            "[1, 10000] loss: 2.231\n",
            "Train Accuracy: 16 %\n",
            "0.0\n",
            "Training Accuracy: 16 %\n",
            "[2,  2000] loss: 2.216\n",
            "Train Accuracy: 20 %\n",
            "[2,  4000] loss: 2.213\n",
            "Train Accuracy: 20 %\n",
            "[2,  6000] loss: 2.213\n",
            "Train Accuracy: 20 %\n",
            "[2,  8000] loss: 2.198\n",
            "Train Accuracy: 21 %\n",
            "[2, 10000] loss: 2.215\n",
            "Train Accuracy: 20 %\n",
            "0.0\n",
            "Training Accuracy: 20 %\n",
            "[3,  2000] loss: 2.195\n",
            "Train Accuracy: 22 %\n",
            "[3,  4000] loss: 2.188\n",
            "Train Accuracy: 22 %\n",
            "[3,  6000] loss: 2.186\n",
            "Train Accuracy: 22 %\n",
            "[3,  8000] loss: 2.183\n",
            "Train Accuracy: 22 %\n",
            "[3, 10000] loss: 2.179\n",
            "Train Accuracy: 22 %\n",
            "0.0\n",
            "Training Accuracy: 22 %\n",
            "[4,  2000] loss: 2.170\n",
            "Train Accuracy: 23 %\n",
            "[4,  4000] loss: 2.176\n",
            "Train Accuracy: 22 %\n",
            "[4,  6000] loss: 2.165\n",
            "Train Accuracy: 23 %\n",
            "[4,  8000] loss: 2.165\n",
            "Train Accuracy: 23 %\n",
            "[4, 10000] loss: 2.159\n",
            "Train Accuracy: 23 %\n",
            "0.0\n",
            "Training Accuracy: 23 %\n",
            "[5,  2000] loss: 2.160\n",
            "Train Accuracy: 24 %\n",
            "[5,  4000] loss: 2.151\n",
            "Train Accuracy: 24 %\n",
            "[5,  6000] loss: 2.148\n",
            "Train Accuracy: 24 %\n",
            "[5,  8000] loss: 2.149\n",
            "Train Accuracy: 24 %\n",
            "[5, 10000] loss: 2.149\n",
            "Train Accuracy: 24 %\n",
            "0.0\n",
            "Training Accuracy: 24 %\n",
            "Finished Training\n"
          ]
        }
      ],
      "source": [
        "#Repeated code snippet - See Model 1 Testing for more comments\n",
        "losses = []\n",
        "train_graph_losses = []\n",
        "epoch__acc = []\n",
        "train_acc = []\n",
        "for epoch in range(5): \n",
        "\n",
        "    running_loss = 0.0\n",
        "    correct = 0.0\n",
        "    total = 0  \n",
        "    for i, data in enumerate(trainloader):\n",
        "        inputs, labels = data  \n",
        "        inputs, labels = inputs.to(device), labels.to(device)\n",
        "\n",
        "        optimizer2.zero_grad()\n",
        "\n",
        "        outputs = model32(inputs)\n",
        "        loss = criterion(outputs, labels)\n",
        "        loss.backward()\n",
        "        optimizer2.step()\n",
        "\n",
        "\n",
        "        running_loss += loss.item()\n",
        "        _, predicted = torch.max(outputs.data, 1)   \n",
        "        total += labels.size(0) \n",
        "        correct += (predicted == labels).sum().item()\n",
        "        mean_train_accuracy = (100 * correct / total)  \n",
        "        if i % 2000 == 1999:   \n",
        "            print(f'[{epoch + 1}, {i + 1:5d}] loss: {running_loss / 2000:.3f}')\n",
        "            print('Train Accuracy: %d %%' % (mean_train_accuracy)) \n",
        "            #storing loss and accuracy information for plotting\n",
        "            running_loss = running_loss / 2000\n",
        "            train_graph_losses.append(running_loss)\n",
        "            train_acc.append(mean_train_accuracy)\n",
        "            running_loss = 0.0\n",
        "    \n",
        "                     \n",
        "\n",
        "    scheduler.step()\n",
        "\n",
        "    epoch_loss = running_loss / len(train_data)\n",
        "    losses.append(epoch_loss)\n",
        "    print(epoch_loss)\n",
        "    print('Training Accuracy: %d %%' % (mean_train_accuracy)) \n",
        "    \n",
        "\n",
        "print('Finished Training')"
      ]
    },
    {
      "cell_type": "markdown",
      "source": [
        "#### Model 2 (Validation)"
      ],
      "metadata": {
        "id": "GQ0qV4xUNZE2"
      }
    },
    {
      "cell_type": "code",
      "source": [
        "#Repeated code snippet - See Model 1 Testing for more comments\n",
        "val_acc = []\n",
        "val_graph_losses = []   \n",
        "total_epoch = []  \n",
        "for epoch in range(5):  # loop over the dataset multiple times\n",
        "  correct = 0                                               \n",
        "  total = 0                                                 \n",
        "  running_loss = 0.0   \n",
        "  model32.eval()                                              \n",
        "  with torch.no_grad():                                     \n",
        "    for i, data in enumerate(valloader):\n",
        "      inputs, labels = data  \n",
        "      inputs, labels = inputs.to(device), labels.to(device)                          \n",
        "\n",
        "      outputs = model32(inputs)                           \n",
        "      loss = criterion(outputs, labels)                 \n",
        "      _, predicted = torch.max(outputs.data, 1)         \n",
        "      total += labels.size(0)                           \n",
        "      correct += (predicted == labels).sum().item()     \n",
        "      running_loss += loss.item()         \n",
        "      mean_val_accuracy = (100 * correct / total)               \n",
        "      mean_val_loss = ( running_loss )    \n",
        "\n",
        "      if i % 2000 == 1999:    # print every 2000 mini-batches\n",
        "              print(f'[{epoch + 1}, {i + 1:5d}] loss: {running_loss / 2000:.3f}')\n",
        "              print('Validation Accuracy: %d %%' % (mean_val_accuracy))\n",
        "              running_loss = running_loss / 2000\n",
        "              val_graph_losses.append(running_loss) \n",
        "              val_acc.append(mean_val_accuracy)\n",
        "              total_epoch.append(epoch)\n",
        "              running_loss = 0.0\n",
        "              print(epoch)\n",
        "                                   \n",
        "          \n",
        "  print('Validation Accuracy: %d %%' % (mean_val_accuracy)) \n",
        "  print('Validation Loss:'  ,mean_val_loss )  "
      ],
      "metadata": {
        "id": "rR-5Nufj7MJz"
      },
      "execution_count": null,
      "outputs": []
    },
    {
      "cell_type": "code",
      "source": [
        "#Plotting loss\n",
        "plt.figure(figsize=(10,5))\n",
        "plt.title(\"Training and Validation Loss\")\n",
        "plt.plot(train_graph_losses, color =\"g\")\n",
        "plt.plot(val_graph_losses, color = \"m\")\n",
        "plt.legend()\n",
        "plt.xlabel(\"Iterations\")\n",
        "plt.ylabel(\"Loss\")\n",
        "plt.legend(['train', 'val'])\n",
        "plt.show()"
      ],
      "metadata": {
        "id": "iaio2AiK7XC7"
      },
      "execution_count": null,
      "outputs": []
    },
    {
      "cell_type": "code",
      "source": [
        "#Plotting accuracy \n",
        "plt.figure(figsize=(10,5))\n",
        "plt.title(\"Training and Validation Accuracy\")\n",
        "plt.plot(train_acc, color =\"g\")\n",
        "plt.plot(val_acc, color = \"m\")\n",
        "plt.legend()\n",
        "plt.xlabel(\"Iterations\")\n",
        "plt.ylabel(\"Accuracy in %\")\n",
        "plt.legend(['train', 'val'])\n",
        "plt.show()"
      ],
      "metadata": {
        "id": "8-v9ZmOE6HHa"
      },
      "execution_count": null,
      "outputs": []
    },
    {
      "cell_type": "markdown",
      "metadata": {
        "id": "UKekdYFtOC7Z"
      },
      "source": [
        "### Model 3"
      ]
    },
    {
      "cell_type": "code",
      "source": [
        "import torch.nn as nn\n",
        "import torch.nn.functional as F\n",
        "\n",
        "#4 Hidden Layers - fully linear layer - just utilises dropout - most accurate out of 3 4-layer models\n",
        "class Net37(nn.Module):\n",
        "    def __init__(self):\n",
        "        super().__init__()\n",
        "        self.fc1 = nn.Linear(32*32 * 3, 2048)\n",
        "        #self.drop = nn.Dropout(p=0.5, inplace=False)\n",
        "        self.fc2 = nn.Linear(2048, 1024)\n",
        "        #self.drop = nn.Dropout(p=0.5, inplace=False)\n",
        "        self.fc3 = nn.Linear(1024, 512)\n",
        "        #self.drop = nn.Dropout(p=0.5, inplace=False)\n",
        "        self.fc4 = nn.Linear(512, 256)\n",
        "        #self.drop = nn.Dropout(p=0.5, inplace=False)\n",
        "        self.fc5 = nn.Linear(256, 128)\n",
        "        #self.drop = nn.Dropout(p=0.5, inplace=False)\n",
        "        self.fc6 = nn.Linear(128, 10)\n",
        "        #self.drop = nn.Dropout(p=0.5, inplace=False)\n",
        "        \n",
        "\n",
        "    def forward(self, x):\n",
        "        x = torch.flatten(x, 1) # flatten all dimensions except batch\n",
        "        x = F.relu(self.fc1(x))\n",
        "        #x = self.drop(x)\n",
        "        x = F.relu(self.fc2(x))\n",
        "        #x = self.drop(x)\n",
        "        x = F.relu(self.fc3(x))\n",
        "        #x = self.drop(x)\n",
        "        x = F.relu(self.fc4(x))\n",
        "        #x = self.drop(x)\n",
        "        x = F.relu(self.fc5(x))\n",
        "        #x = self.drop(x)\n",
        "        x = F.relu(self.fc6(x))\n",
        "        #x = self.drop(x)\n",
        "        return x\n",
        "\n",
        "\n",
        "model37 = Net37().to(device)"
      ],
      "metadata": {
        "id": "6SYwlFP2RK2w"
      },
      "execution_count": null,
      "outputs": []
    },
    {
      "cell_type": "code",
      "execution_count": null,
      "metadata": {
        "colab": {
          "base_uri": "https://localhost:8080/"
        },
        "id": "NCxj_bH5pZvO",
        "outputId": "420da0f3-e4be-47e2-c040-d83d9c6256f4"
      },
      "outputs": [
        {
          "output_type": "execute_result",
          "data": {
            "text/plain": [
              "<bound method Module.type of Net32(\n",
              "  (fc1): Linear(in_features=3072, out_features=2048, bias=True)\n",
              "  (fc2): Linear(in_features=2048, out_features=1024, bias=True)\n",
              "  (fc3): Linear(in_features=1024, out_features=512, bias=True)\n",
              "  (fc4): Linear(in_features=512, out_features=256, bias=True)\n",
              "  (fc5): Linear(in_features=256, out_features=128, bias=True)\n",
              "  (fc6): Linear(in_features=128, out_features=10, bias=True)\n",
              ")>"
            ]
          },
          "metadata": {},
          "execution_count": 21
        }
      ],
      "source": [
        "model32.type"
      ]
    },
    {
      "cell_type": "code",
      "execution_count": null,
      "metadata": {
        "colab": {
          "base_uri": "https://localhost:8080/"
        },
        "id": "WtfbV-B6OdcT",
        "outputId": "2b8a252b-940a-4527-ddb4-28fe6ea237fa"
      },
      "outputs": [
        {
          "output_type": "stream",
          "name": "stdout",
          "text": [
            "----------------------------------------------------------------\n",
            "        Layer (type)               Output Shape         Param #\n",
            "================================================================\n",
            "            Linear-1                 [-1, 2048]       6,293,504\n",
            "            Linear-2                 [-1, 1024]       2,098,176\n",
            "            Linear-3                  [-1, 512]         524,800\n",
            "            Linear-4                  [-1, 256]         131,328\n",
            "            Linear-5                  [-1, 128]          32,896\n",
            "            Linear-6                   [-1, 10]           1,290\n",
            "================================================================\n",
            "Total params: 9,081,994\n",
            "Trainable params: 9,081,994\n",
            "Non-trainable params: 0\n",
            "----------------------------------------------------------------\n",
            "Input size (MB): 0.01\n",
            "Forward/backward pass size (MB): 0.03\n",
            "Params size (MB): 34.65\n",
            "Estimated Total Size (MB): 34.69\n",
            "----------------------------------------------------------------\n"
          ]
        }
      ],
      "source": [
        "#model summary --> helps with understanding layer composition \n",
        "from torchvision import models\n",
        "from torchsummary import summary\n",
        "summary(model37,(3, 32, 32))"
      ]
    },
    {
      "cell_type": "code",
      "source": [
        "#using torchviz library - print out the structure and exact dimensional \n",
        "#operations with network architecture\n",
        "from torchviz import make_dot\n",
        "x = torch.randn(6, 3, 32, 32)\n",
        "y = model32(x)\n",
        "make_dot(y.mean(), params=dict(model32.named_parameters()))"
      ],
      "metadata": {
        "id": "n2GOR3i8eQ-D"
      },
      "execution_count": null,
      "outputs": []
    },
    {
      "cell_type": "code",
      "execution_count": null,
      "metadata": {
        "id": "oYqJ0LmV1osl"
      },
      "outputs": [],
      "source": [
        "#Specifc architecture for model33 - using torchviz library - print out the structure and exact dimensional \n",
        "#operations with network architecture\n",
        "from torchviz import make_dot\n",
        "x = torch.randn(6, 3, 32, 32)\n",
        "y = model37(x)\n",
        "make_dot(y.mean(), params=dict(model37.named_parameters()))"
      ]
    },
    {
      "cell_type": "code",
      "execution_count": null,
      "metadata": {
        "id": "7CXOjyNqOS9l"
      },
      "outputs": [],
      "source": [
        "#Repeated code snippet - See Model 1 Testing for more comments\n",
        "import torch.optim as optim\n",
        "from torch.optim.lr_scheduler import LambdaLR, StepLR, MultiStepLR, ExponentialLR, ReduceLROnPlateau\n",
        "criterion = nn.CrossEntropyLoss() #Crossentropy loss\n",
        "#optimizer3 = optim.SGD(model33.parameters(), lr=0.005, momentum=0.9, dampening=0, weight_decay=1e-6, nesterov=False)\n",
        "optimizer3 = optim.Adam(model37.parameters(),lr=0.005, betas=(0.9, 0.999), eps=1e-08, weight_decay=1e-6, amsgrad=False)\n",
        "#optimizer3 = optim.RMSprop(model3.parameters(), lr=0.01, alpha=0.99, eps=1e-08, weight_decay=0, momentum=0, centered=False)\n",
        "#scheduler = MultiStepLR(optimizer3, milestones=[1], gamma=0.1)\n",
        "scheduler = ExponentialLR(optimizer3, gamma=0.9)"
      ]
    },
    {
      "cell_type": "code",
      "execution_count": null,
      "metadata": {
        "colab": {
          "base_uri": "https://localhost:8080/"
        },
        "id": "DIhVCiCEOnJQ",
        "outputId": "465bdd2c-4699-472e-c8ce-53c5a40caed8"
      },
      "outputs": [
        {
          "output_type": "stream",
          "name": "stdout",
          "text": [
            "Training Accuracy: 9 %\n",
            "Training Loss: 0.5756462812423706\n",
            "Finished Training\n"
          ]
        }
      ],
      "source": [
        "#Repeated code snippet - See Model 1 Testing for more comments\n",
        "#total_epochs = notebook.tqdm(range(num_epochs))\n",
        "losses = []\n",
        "train_graph_losses = []\n",
        "epoch__acc = []\n",
        "train_acc = []\n",
        "for epoch in range(num_epochs): \n",
        "    running_loss = 0.0\n",
        "    correct = 0.0\n",
        "    total = 0  \n",
        "    for i, data in enumerate(trainloader,0):\n",
        "        inputs, labels = data\n",
        "        inputs, labels = inputs.to(device), labels.to(device)\n",
        "        \n",
        "        optimizer3.zero_grad()\n",
        "\n",
        "        outputs = model37(inputs)\n",
        "        loss = criterion(outputs, labels)\n",
        "        loss.backward()\n",
        "        optimizer3.step()\n",
        "\n",
        "        running_loss += loss.item()\n",
        "        _, predicted = torch.max(outputs.data, 1)   \n",
        "        total += labels.size(0) \n",
        "        correct += (predicted == labels).sum().item()\n",
        "        train_graph_losses.append(running_loss)\n",
        "\n",
        "\n",
        "    mean_train_accuracy = (100 * correct / total)  \n",
        "    running_loss=running_loss/total\n",
        "\n",
        "      \n",
        "    #train_graph_losses.append(running_loss)\n",
        "    #train_acc.append(mean_train_accuracy)\n",
        "                 \n",
        "    scheduler.step()\n",
        "\n",
        "print('Training Accuracy: %d %%' % (mean_train_accuracy)) \n",
        "print('Training Loss:'  ,running_loss )\n",
        "    \n",
        "\n",
        "print('Finished Training')"
      ]
    },
    {
      "cell_type": "markdown",
      "source": [
        "#### Model 3 Validation"
      ],
      "metadata": {
        "id": "aa3vXvmdxCmp"
      }
    },
    {
      "cell_type": "code",
      "source": [
        "#Repeated code snippet - See Model 1 for more comments\n",
        "#total_epochs = notebook.tqdm(range(num_epochs))\n",
        "val_acc = []\n",
        "val_graph_losses = []    \n",
        "for epoch in range(num_epochs):  \n",
        "  correct = 0                                               \n",
        "  total = 0                                                 \n",
        "  running_loss = 0.0   \n",
        "  model37.eval()                                              \n",
        "  with torch.no_grad():                                     \n",
        "    for i, (inputs,labels) in enumerate(valloader):\n",
        "        inputs, labels = data\n",
        "        inputs, labels = inputs.to(device), labels.to(device)                       \n",
        "\n",
        "        outputs = model32(inputs)                           \n",
        "        loss = criterion(outputs, labels) \n",
        "\n",
        "        running_loss += loss.item()  \n",
        "        _, predicted = torch.max(outputs.data, 1)         \n",
        "        total += labels.size(0)                           \n",
        "        correct += (predicted == labels).sum().item()  \n",
        "        val_graph_losses.append(running_loss)        \n",
        "    \n",
        "    mean_val_accuracy = (100 * correct / total) \n",
        "    running_loss=running_loss/len(valloader)                 \n",
        "                                  \n",
        "print('Validation Accuracy: %d %%' % (mean_val_accuracy)) \n",
        "print('Validation Loss:'  ,running_loss)  "
      ],
      "metadata": {
        "id": "B8hH_nu27ZfK",
        "colab": {
          "base_uri": "https://localhost:8080/"
        },
        "outputId": "272c7102-3091-4bbd-993d-f141c291be4c"
      },
      "execution_count": null,
      "outputs": [
        {
          "output_type": "stream",
          "name": "stdout",
          "text": [
            "Validation Accuracy: 25 %\n",
            "Validation Loss: 2.3025851249694824\n"
          ]
        }
      ]
    },
    {
      "cell_type": "code",
      "source": [
        "#Plotting loss\n",
        "plt.figure(figsize=(10,5))\n",
        "plt.title(\"Training and Validation Loss\")\n",
        "plt.plot(train_graph_losses, color =\"g\")\n",
        "plt.plot(val_graph_losses, color = \"m\")\n",
        "plt.legend()\n",
        "plt.xlabel(\"Iterations\")\n",
        "plt.ylabel(\"Loss\")\n",
        "plt.legend(['train', 'val'])\n",
        "plt.show()"
      ],
      "metadata": {
        "id": "d8GDF_KN7coX",
        "colab": {
          "base_uri": "https://localhost:8080/",
          "height": 368
        },
        "outputId": "2dc95fa4-ae3f-4723-e003-8bd749456731"
      },
      "execution_count": null,
      "outputs": [
        {
          "output_type": "stream",
          "name": "stderr",
          "text": [
            "No handles with labels found to put in legend.\n"
          ]
        },
        {
          "output_type": "display_data",
          "data": {
            "text/plain": [
              "<Figure size 720x360 with 1 Axes>"
            ],
            "image/png": "[encoded data removed]"
          },
          "metadata": {
            "needs_background": "light"
          }
        }
      ]
    },
    {
      "cell_type": "code",
      "source": [
        "#Plotting accuracy \n",
        "plt.figure(figsize=(10,5))\n",
        "plt.title(\"Training and Validation Accuracy\")\n",
        "plt.plot(train_acc, color =\"g\")\n",
        "plt.plot(val_acc, color = \"m\")\n",
        "plt.legend()\n",
        "plt.xlabel(\"Iterations\")\n",
        "plt.ylabel(\"Accuracy in %\")\n",
        "plt.legend(['train', 'val'])\n",
        "plt.show()"
      ],
      "metadata": {
        "colab": {
          "base_uri": "https://localhost:8080/",
          "height": 368
        },
        "id": "vDIvwfRZf6ME",
        "outputId": "26d2aba1-f363-4362-8824-fda0cd64b114"
      },
      "execution_count": null,
      "outputs": [
        {
          "output_type": "stream",
          "name": "stderr",
          "text": [
            "No handles with labels found to put in legend.\n"
          ]
        },
        {
          "output_type": "display_data",
          "data": {
            "text/plain": [
              "<Figure size 720x360 with 1 Axes>"
            ],
            "image/png": "[encoded data removed]"
          },
          "metadata": {
            "needs_background": "light"
          }
        }
      ]
    },
    {
      "cell_type": "markdown",
      "source": [
        "### Model 6"
      ],
      "metadata": {
        "id": "BCyrkAfYWGkt"
      }
    },
    {
      "cell_type": "code",
      "source": [
        "import torch.nn as nn\n",
        "import torch.nn.functional as F\n",
        "\n",
        "#2 Layers - fully convolutional 2 layers -> one dropout and one maxpooling operations\n",
        "class Net2(nn.Module):\n",
        "    def __init__(self):\n",
        "        super().__init__()\n",
        "        self.conv1 = nn.Conv2d(3, 6, 5)\n",
        "        self.pool = nn.MaxPool2d(2, 2)\n",
        "        #self.fc1 = nn.Linear(6, 10)\n",
        "        self.conv2 = nn.Conv2d(6, 10, 5)\n",
        "        self.drop = nn.Dropout(p=0.5, inplace=False)\n",
        "\n",
        "    def forward(self, x):\n",
        "        x = self.pool(F.relu(self.conv1(x)))\n",
        "        x = self.pool(F.relu(self.conv2(x)))\n",
        "        #x = self.pool(F.relu(self.conv3(x)))\n",
        "        x = torch.flatten(x, 1) # flatten all dimensions except batch\n",
        "        #x = F.relu(self.fc1(x))\n",
        "        return x\n",
        "\n",
        "\n",
        "model2 = Net2()"
      ],
      "metadata": {
        "id": "cMkFECGWWRHR"
      },
      "execution_count": null,
      "outputs": []
    },
    {
      "cell_type": "markdown",
      "source": [
        "### Best Model"
      ],
      "metadata": {
        "id": "4PbBk7xNPVa_"
      }
    },
    {
      "cell_type": "code",
      "source": [
        "import torch.nn as nn\n",
        "import torch.nn.functional as F\n",
        "#Modified Base Model - 3 layer model with additional hyperparameters and dropoout/batchnorm\n",
        "#One fully connected layer similar to Model 1 above \n",
        "class Net4(nn.Module):\n",
        "    def __init__(self):\n",
        "        super().__init__()\n",
        "        self.conv1 = nn.Conv2d(3, 6, kernel_size=(5, 5))\n",
        "        self.pool = nn.MaxPool2d(2, 2)\n",
        "        self.batch1 = nn.BatchNorm2d(6, eps=1e-05, momentum=0.1, affine=True)\n",
        "        self.drop = nn.Dropout(p=0.5, inplace=False)\n",
        "\n",
        "        self.conv2 = nn.Conv2d(6, 16, kernel_size=(5, 5))\n",
        "        self.pool = nn.MaxPool2d(2, 2)\n",
        "        self.batch2 = nn.BatchNorm2d(16, eps=1e-05, momentum=0.1, affine=True)\n",
        "        self.drop = nn.Dropout(p=0.5, inplace=False)\n",
        "\n",
        "        self.fc1 = nn.Linear(16 * 5 * 5, 10)\n",
        "        self.drop = nn.Dropout(p=0.5, inplace=False)\n",
        "\n",
        "    def forward(self, x):\n",
        "        x = self.pool(F.relu(self.conv1(x)))\n",
        "        x = self.batch1(x)\n",
        "        x = self.drop(x)\n",
        "        x = self.pool(F.relu(self.conv2(x)))\n",
        "        x = self.batch2(x)\n",
        "        x = self.drop(x)\n",
        "        #x = self.pool(F.relu(self.conv3(x)))\n",
        "        x = torch.flatten(x, 1) # flatten all dimensions excluding batch\n",
        "        x = F.relu(self.fc1(x))\n",
        "        x = self.drop(x)\n",
        "        return x\n",
        "\n",
        "\n",
        "model4 = Net4()"
      ],
      "metadata": {
        "id": "VafisqpRPeRa"
      },
      "execution_count": null,
      "outputs": []
    },
    {
      "cell_type": "code",
      "source": [
        "#model summary --> helps with understanding layer composition \n",
        "from torchvision import models\n",
        "from torchsummary import summary\n",
        "summary(model4,(3, 32, 32))"
      ],
      "metadata": {
        "colab": {
          "base_uri": "https://localhost:8080/"
        },
        "id": "9yTaEAp3Pvn0",
        "outputId": "a984d8a9-fb85-4398-ffe4-646988b9516f"
      },
      "execution_count": null,
      "outputs": [
        {
          "output_type": "stream",
          "name": "stdout",
          "text": [
            "----------------------------------------------------------------\n",
            "        Layer (type)               Output Shape         Param #\n",
            "================================================================\n",
            "            Conv2d-1            [-1, 6, 28, 28]             456\n",
            "         MaxPool2d-2            [-1, 6, 14, 14]               0\n",
            "       BatchNorm2d-3            [-1, 6, 14, 14]              12\n",
            "           Dropout-4            [-1, 6, 14, 14]               0\n",
            "            Conv2d-5           [-1, 16, 10, 10]           2,416\n",
            "         MaxPool2d-6             [-1, 16, 5, 5]               0\n",
            "       BatchNorm2d-7             [-1, 16, 5, 5]              32\n",
            "           Dropout-8             [-1, 16, 5, 5]               0\n",
            "            Linear-9                   [-1, 10]           4,010\n",
            "          Dropout-10                   [-1, 10]               0\n",
            "================================================================\n",
            "Total params: 6,926\n",
            "Trainable params: 6,926\n",
            "Non-trainable params: 0\n",
            "----------------------------------------------------------------\n",
            "Input size (MB): 0.01\n",
            "Forward/backward pass size (MB): 0.08\n",
            "Params size (MB): 0.03\n",
            "Estimated Total Size (MB): 0.12\n",
            "----------------------------------------------------------------\n"
          ]
        }
      ]
    },
    {
      "cell_type": "code",
      "source": [
        "#using torchviz library - print out the structure and exact dimensional \n",
        "#operations with network architecture\n",
        "from torchviz import make_dot\n",
        "x = torch.randn(6, 3, 32, 32)\n",
        "y = model1(x)\n",
        "make_dot(y.mean(), params=dict(model4.named_parameters()))"
      ],
      "metadata": {
        "id": "j8sqERALPzhE"
      },
      "execution_count": null,
      "outputs": []
    },
    {
      "cell_type": "code",
      "source": [
        "#Repeated code snippet - See Model 1 Testing for more comments\n",
        "import torch.optim as optim\n",
        "from torch.optim.lr_scheduler import LambdaLR, StepLR, MultiStepLR, ExponentialLR, ReduceLROnPlateau\n",
        "criterion = nn.CrossEntropyLoss()\n",
        "#optimizer4 = optim.SGD(model4.parameters(), lr=0.001, momentum=0.9)\n",
        "optimizer4 = optim.Adam(model4.parameters(),lr=0.001, betas=(0.9, 0.999), eps=1e-08, weight_decay=1e-6, amsgrad=False)\n",
        "#optimizer4 = optim.RMSprop(model4.parameters(), lr=0.001, alpha=0.99, eps=1e-08, weight_decay=0, momentum=0, centered=False)\n",
        "#standard Expoential learning rate scheduler \n",
        "scheduler = ExponentialLR(optimizer4, gamma=0.9)"
      ],
      "metadata": {
        "id": "H_eUyzl6P2g0"
      },
      "execution_count": null,
      "outputs": []
    },
    {
      "cell_type": "code",
      "source": [
        "#Repeated code snippet - See Model 1 Testing for more comments\n",
        "losses = []\n",
        "train_graph_losses = []\n",
        "epoch__acc = []\n",
        "train_acc = []\n",
        "for epoch in range(5):  \n",
        "\n",
        "    running_loss = 0.0\n",
        "    correct = 0.0\n",
        "    total = 0  \n",
        "    for i, data in enumerate(trainloader):\n",
        "        inputs, labels = data\n",
        "\n",
        "        optimizer4.zero_grad()\n",
        "\n",
        "        outputs = model4(inputs)\n",
        "        loss = criterion(outputs, labels)\n",
        "        loss.backward()\n",
        "        optimizer4.step()\n",
        "\n",
        "        running_loss += loss.item()\n",
        "        _, predicted = torch.max(outputs.data, 1)   \n",
        "        total += labels.size(0) \n",
        "        correct += (predicted == labels).sum().item()\n",
        "        mean_train_accuracy = (100 * correct / total)  \n",
        "        if i % 2000 == 1999:    # 2000 minibatches printed \n",
        "            print(f'[{epoch + 1}, {i + 1:5d}] loss: {running_loss / 2000:.3f}')\n",
        "            print('Train Accuracy: %d %%' % (mean_train_accuracy)) \n",
        "            running_loss = running_loss / 2000\n",
        "            train_graph_losses.append(running_loss)\n",
        "            train_acc.append(mean_train_accuracy)\n",
        "            running_loss = 0.0\n",
        "            print(epoch)\n",
        "    \n",
        "                     \n",
        "\n",
        "    scheduler.step()\n",
        "\n",
        "    epoch_loss = running_loss / len(train_data)\n",
        "    losses.append(epoch_loss)\n",
        "    print(epoch_loss)\n",
        "    print('Training Accuracy: %d %%' % (mean_train_accuracy)) \n",
        "    \n",
        "\n",
        "print('Finished Training')"
      ],
      "metadata": {
        "colab": {
          "base_uri": "https://localhost:8080/"
        },
        "id": "awDy6wOcP5_9",
        "outputId": "ecc77227-b761-49cb-bcb1-f13ff51cd121"
      },
      "execution_count": null,
      "outputs": [
        {
          "output_type": "stream",
          "name": "stdout",
          "text": [
            "[1,  2000] loss: 2.342\n",
            "Train Accuracy: 12 %\n",
            "0\n",
            "[1,  4000] loss: 2.287\n",
            "Train Accuracy: 11 %\n",
            "0\n",
            "[1,  6000] loss: 2.295\n",
            "Train Accuracy: 11 %\n",
            "0\n",
            "[1,  8000] loss: 2.294\n",
            "Train Accuracy: 11 %\n",
            "0\n",
            "[1, 10000] loss: 2.287\n",
            "Train Accuracy: 10 %\n",
            "0\n",
            "[1, 12000] loss: 2.282\n",
            "Train Accuracy: 10 %\n",
            "0\n",
            "0.11386751823425292\n",
            "Training Accuracy: 10 %\n",
            "[2,  2000] loss: 2.278\n",
            "Train Accuracy: 10 %\n",
            "1\n",
            "[2,  4000] loss: 2.268\n",
            "Train Accuracy: 11 %\n",
            "1\n",
            "[2,  6000] loss: 2.272\n",
            "Train Accuracy: 11 %\n",
            "1\n",
            "[2,  8000] loss: 2.271\n",
            "Train Accuracy: 11 %\n",
            "1\n",
            "[2, 10000] loss: 2.265\n",
            "Train Accuracy: 11 %\n",
            "1\n",
            "[2, 12000] loss: 2.262\n",
            "Train Accuracy: 11 %\n",
            "1\n",
            "0.11388571093082428\n",
            "Training Accuracy: 11 %\n",
            "[3,  2000] loss: 2.265\n",
            "Train Accuracy: 11 %\n",
            "2\n",
            "[3,  4000] loss: 2.257\n",
            "Train Accuracy: 11 %\n",
            "2\n",
            "[3,  6000] loss: 2.258\n",
            "Train Accuracy: 11 %\n",
            "2\n",
            "[3,  8000] loss: 2.252\n",
            "Train Accuracy: 11 %\n",
            "2\n",
            "[3, 10000] loss: 2.247\n",
            "Train Accuracy: 11 %\n",
            "2\n",
            "[3, 12000] loss: 2.234\n",
            "Train Accuracy: 12 %\n",
            "2\n",
            "0.11189022799730301\n",
            "Training Accuracy: 12 %\n",
            "[4,  2000] loss: 2.232\n",
            "Train Accuracy: 13 %\n",
            "3\n",
            "[4,  4000] loss: 2.241\n",
            "Train Accuracy: 13 %\n",
            "3\n",
            "[4,  6000] loss: 2.225\n",
            "Train Accuracy: 13 %\n",
            "3\n",
            "[4,  8000] loss: 2.224\n",
            "Train Accuracy: 14 %\n",
            "3\n",
            "[4, 10000] loss: 2.229\n",
            "Train Accuracy: 14 %\n",
            "3\n",
            "[4, 12000] loss: 2.222\n",
            "Train Accuracy: 14 %\n",
            "3\n",
            "0.11198240948915482\n",
            "Training Accuracy: 14 %\n",
            "[5,  2000] loss: 2.219\n",
            "Train Accuracy: 16 %\n",
            "4\n",
            "[5,  4000] loss: 2.211\n",
            "Train Accuracy: 16 %\n",
            "4\n",
            "[5,  6000] loss: 2.214\n",
            "Train Accuracy: 16 %\n",
            "4\n",
            "[5,  8000] loss: 2.206\n",
            "Train Accuracy: 17 %\n",
            "4\n",
            "[5, 10000] loss: 2.192\n",
            "Train Accuracy: 17 %\n",
            "4\n",
            "[5, 12000] loss: 2.196\n",
            "Train Accuracy: 17 %\n",
            "4\n",
            "0.10931746799945831\n",
            "Training Accuracy: 17 %\n",
            "Finished Training\n"
          ]
        }
      ]
    },
    {
      "cell_type": "markdown",
      "source": [
        "#### Model 4 Validation"
      ],
      "metadata": {
        "id": "qrASs8QdPYV8"
      }
    },
    {
      "cell_type": "code",
      "source": [
        "#Repeated code snippet - See Model 1 Testing for more comments\n",
        "val_acc = []\n",
        "val_graph_losses = []     \n",
        "for epoch in range(5):  # loop over the dataset multiple times\n",
        "  correct = 0                                               \n",
        "  total = 0                                                 \n",
        "  running_loss = 0.0   \n",
        "  model4.eval()                                              \n",
        "  with torch.no_grad():                                     \n",
        "    for i, data in enumerate(valloader):\n",
        "      inputs, labels = data                             \n",
        "\n",
        "      outputs = model4(inputs)                           \n",
        "      loss = criterion(outputs, labels)                 \n",
        "      _, predicted = torch.max(outputs.data, 1)         \n",
        "      total += labels.size(0)                           \n",
        "      correct += (predicted == labels).sum().item()     \n",
        "      running_loss += loss.item()         \n",
        "      mean_val_accuracy = (100 * correct / total)               \n",
        "      mean_val_loss = ( running_loss )    \n",
        "\n",
        "      if i % 2000 == 1999:    # print every 2000 mini-batches\n",
        "              print(f'[{epoch + 1}, {i + 1:5d}] loss: {running_loss / 2000:.3f}')\n",
        "              print('Validation Accuracy: %d %%' % (mean_val_accuracy))\n",
        "              running_loss = running_loss / 2000\n",
        "              val_graph_losses.append(running_loss) \n",
        "              val_acc.append(mean_val_accuracy)\n",
        "              running_loss = 0.0\n",
        "                                               \n",
        "  print('Validation Accuracy: %d %%' % (mean_val_accuracy)) \n",
        "  print('Validation Loss:'  ,mean_val_loss )     "
      ],
      "metadata": {
        "colab": {
          "base_uri": "https://localhost:8080/"
        },
        "id": "nhBz1de0Pe29",
        "outputId": "120ce00b-3f5e-40b7-8c22-63bd96e215b0"
      },
      "execution_count": null,
      "outputs": [
        {
          "output_type": "stream",
          "name": "stdout",
          "text": [
            "[1,  2000] loss: 2.106\n",
            "Validation Accuracy: 26 %\n",
            "[1,  4000] loss: 2.107\n",
            "Validation Accuracy: 26 %\n",
            "[1,  6000] loss: 2.104\n",
            "Validation Accuracy: 26 %\n",
            "[1,  8000] loss: 2.105\n",
            "Validation Accuracy: 26 %\n",
            "[1, 10000] loss: 2.103\n",
            "Validation Accuracy: 26 %\n",
            "[1, 12000] loss: 2.108\n",
            "Validation Accuracy: 26 %\n",
            "Validation Accuracy: 26 %\n",
            "Validation Loss: 1053.920929312706\n",
            "[2,  2000] loss: 2.102\n",
            "Validation Accuracy: 26 %\n",
            "[2,  4000] loss: 2.105\n",
            "Validation Accuracy: 26 %\n",
            "[2,  6000] loss: 2.103\n",
            "Validation Accuracy: 26 %\n",
            "[2,  8000] loss: 2.109\n",
            "Validation Accuracy: 26 %\n",
            "[2, 10000] loss: 2.105\n",
            "Validation Accuracy: 26 %\n",
            "[2, 12000] loss: 2.111\n",
            "Validation Accuracy: 26 %\n",
            "Validation Accuracy: 26 %\n",
            "Validation Loss: 1049.3585891723633\n",
            "[3,  2000] loss: 2.101\n",
            "Validation Accuracy: 27 %\n",
            "[3,  4000] loss: 2.099\n",
            "Validation Accuracy: 27 %\n",
            "[3,  6000] loss: 2.103\n",
            "Validation Accuracy: 26 %\n",
            "[3,  8000] loss: 2.097\n",
            "Validation Accuracy: 26 %\n",
            "[3, 10000] loss: 2.105\n",
            "Validation Accuracy: 26 %\n",
            "[3, 12000] loss: 2.117\n",
            "Validation Accuracy: 26 %\n",
            "Validation Accuracy: 26 %\n",
            "Validation Loss: 1059.1305223703384\n",
            "[4,  2000] loss: 2.104\n",
            "Validation Accuracy: 26 %\n",
            "[4,  4000] loss: 2.117\n",
            "Validation Accuracy: 25 %\n",
            "[4,  6000] loss: 2.100\n",
            "Validation Accuracy: 26 %\n",
            "[4,  8000] loss: 2.103\n",
            "Validation Accuracy: 26 %\n",
            "[4, 10000] loss: 2.101\n",
            "Validation Accuracy: 26 %\n",
            "[4, 12000] loss: 2.105\n",
            "Validation Accuracy: 26 %\n",
            "Validation Accuracy: 26 %\n",
            "Validation Loss: 1047.8528748750687\n",
            "[5,  2000] loss: 2.108\n",
            "Validation Accuracy: 25 %\n",
            "[5,  4000] loss: 2.108\n",
            "Validation Accuracy: 25 %\n",
            "[5,  6000] loss: 2.109\n",
            "Validation Accuracy: 25 %\n",
            "[5,  8000] loss: 2.104\n",
            "Validation Accuracy: 25 %\n",
            "[5, 10000] loss: 2.103\n",
            "Validation Accuracy: 26 %\n",
            "[5, 12000] loss: 2.098\n",
            "Validation Accuracy: 26 %\n",
            "Validation Accuracy: 26 %\n",
            "Validation Loss: 1053.6580504179\n"
          ]
        }
      ]
    },
    {
      "cell_type": "code",
      "source": [
        "#Plotting loss \n",
        "plt.figure(figsize=(10,5))\n",
        "plt.title(\"Training and Validation Loss\")\n",
        "plt.plot(train_graph_losses, color =\"g\")\n",
        "plt.plot(val_graph_losses, color = \"m\")\n",
        "plt.legend()\n",
        "plt.xlabel(\"Iterations\")\n",
        "plt.ylabel(\"Loss\")\n",
        "plt.legend(['train', 'val'])\n",
        "plt.show()"
      ],
      "metadata": {
        "colab": {
          "base_uri": "https://localhost:8080/",
          "height": 368
        },
        "id": "fKvbOcP2PfNl",
        "outputId": "125d8249-7b54-4918-9710-54c4e80c70cb"
      },
      "execution_count": null,
      "outputs": [
        {
          "output_type": "stream",
          "name": "stderr",
          "text": [
            "No handles with labels found to put in legend.\n"
          ]
        },
        {
          "output_type": "display_data",
          "data": {
            "text/plain": [
              "<Figure size 720x360 with 1 Axes>"
            ],
            "image/png": "[encoded data removed]"
          },
          "metadata": {
            "needs_background": "light"
          }
        }
      ]
    },
    {
      "cell_type": "code",
      "source": [
        "#Plotting accuracy\n",
        "plt.figure(figsize=(10,5))\n",
        "plt.title(\"Training and Validation Accuracy\")\n",
        "plt.plot(train_acc, color =\"g\")\n",
        "plt.plot(val_acc, color = \"m\")\n",
        "plt.legend()\n",
        "plt.xlabel(\"Iterations\")\n",
        "plt.ylabel(\"Accuracy in %\")\n",
        "plt.legend(['train', 'val'])\n",
        "plt.show()"
      ],
      "metadata": {
        "colab": {
          "base_uri": "https://localhost:8080/",
          "height": 368
        },
        "id": "ndUqv8YePfeE",
        "outputId": "f544fdb2-1304-45f2-aef2-83bfdfe99313"
      },
      "execution_count": null,
      "outputs": [
        {
          "output_type": "stream",
          "name": "stderr",
          "text": [
            "No handles with labels found to put in legend.\n"
          ]
        },
        {
          "output_type": "display_data",
          "data": {
            "text/plain": [
              "<Figure size 720x360 with 1 Axes>"
            ],
            "image/png": "[encoded data removed]"
          },
          "metadata": {
            "needs_background": "light"
          }
        }
      ]
    },
    {
      "cell_type": "code",
      "source": [
        "#4 Layers - fully linear layer - just utilises dropout - most accurate out of 3 4-layer models\n",
        "#can be ignored early experiment in this investigation\n",
        "class Net32(nn.Module):\n",
        "    def __init__(self):\n",
        "        super().__init__()\n",
        "        self.fc1 = nn.Linear(32*32 * 3, 1024)\n",
        "        self.drop = nn.Dropout(p=0.5, inplace=False)\n",
        "        self.fc2 = nn.Linear(1024, 512)\n",
        "        self.drop = nn.Dropout(p=0.5, inplace=False)\n",
        "        self.fc3 = nn.Linear(512, 128)\n",
        "        self.drop = nn.Dropout(p=0.5, inplace=False)\n",
        "        self.fc4 = nn.Linear(128, 10)\n",
        "        self.drop = nn.Dropout(p=0.5, inplace=False)\n",
        "        \n",
        "\n",
        "    def forward(self, x):\n",
        "        x = torch.flatten(x, 1) # flatten all dimensions except batch\n",
        "        x = F.relu(self.fc1(x))\n",
        "        x = self.drop(x)\n",
        "        x = F.relu(self.fc2(x))\n",
        "        x = self.drop(x)\n",
        "        x = F.relu(self.fc3(x))\n",
        "        x = self.drop(x)\n",
        "        x = F.relu(self.fc4(x))\n",
        "        x = self.drop(x)\n",
        "        return x\n",
        "\n",
        "\n",
        "model32 = Net32()"
      ],
      "metadata": {
        "id": "b9bEt1lxWIf5"
      },
      "execution_count": null,
      "outputs": []
    },
    {
      "cell_type": "markdown",
      "source": [
        "### Base Model"
      ],
      "metadata": {
        "id": "YWdKK2HT8Uqg"
      }
    },
    {
      "cell_type": "code",
      "source": [
        "#intial model with best accuracy - simple structure with additional operations \n",
        "#after convolutional layer\n",
        "class Net1(nn.Module):\n",
        "    def __init__(self):\n",
        "        super().__init__()\n",
        "        self.conv1 = nn.Conv2d(3, 6, 5)\n",
        "        self.pool = nn.MaxPool2d(2, 2)\n",
        "        self.batch1 = nn.BatchNorm2d(6, eps=1e-05, momentum=0.4, affine=True)\n",
        "        self.drop = nn.Dropout(p=0.5, inplace=False)\n",
        "        #self.pool = nn.AvgPool2d(2, 2)\n",
        "        self.conv2 = nn.Conv2d(6, 16, 5)\n",
        "        self.pool = nn.MaxPool2d(2, 2)\n",
        "        self.batch2 = nn.BatchNorm2d(16, eps=1e-05, momentum=0.4, affine=True)\n",
        "        self.drop = nn.Dropout(p=0.5, inplace=False)\n",
        "        #self.pool = nn.AvgPool2d(2, 2)\n",
        "        self.fc1 = nn.Linear(16 * 5 * 5, 10)\n",
        "        #self.drop = nn.Dropout(p=0.5, inplace=False)\n",
        "        \n",
        "\n",
        "    def forward(self, x):\n",
        "        #x = F.relu(self.conv1(x))\n",
        "        #x = F.relu(self.conv2(x))\n",
        "        x = self.pool(F.relu(self.conv1(x)))\n",
        "        x = self.batch1(x)\n",
        "        x = self.drop(x)\n",
        "        x = self.pool(F.relu(self.conv2(x)))\n",
        "        x = self.batch2(x)\n",
        "        x = self.drop(x)\n",
        "        #x = self.pool(F.relu(self.conv3(x)))\n",
        "        x = torch.flatten(x, 1) # flatten all dimensions excluding batch\n",
        "        x = F.relu(self.fc1(x))\n",
        "        return x\n",
        "\n",
        "\n",
        "model1 = Net1()"
      ],
      "metadata": {
        "id": "YOTeBUhQ8Rle"
      },
      "execution_count": null,
      "outputs": []
    },
    {
      "cell_type": "markdown",
      "metadata": {
        "id": "mZwEyrZ7acAx"
      },
      "source": [
        "## Testing on Testset"
      ]
    },
    {
      "cell_type": "code",
      "execution_count": null,
      "metadata": {
        "id": "ZnUJOhejagrY"
      },
      "outputs": [],
      "source": [
        "#loading test images --> for test predictions\n",
        "dataiter = iter(testloader)\n",
        "images, labels = dataiter.next()\n",
        "\n",
        "# print images\n",
        "imshow(torchvision.utils.make_grid(images))\n",
        "print('GroundTruth: ', ' '.join(f'{classes[labels[j]]:5s}' for j in range(4)))"
      ]
    },
    {
      "cell_type": "markdown",
      "metadata": {
        "id": "CmlI7TzkPloB"
      },
      "source": [
        "### Model 1 (3 hidden layers)"
      ]
    },
    {
      "cell_type": "code",
      "execution_count": null,
      "metadata": {
        "id": "XBIjGhT0hqBB"
      },
      "outputs": [],
      "source": [
        "#specifying test images as output\n",
        "outputs = model21(images)"
      ]
    },
    {
      "cell_type": "code",
      "execution_count": null,
      "metadata": {
        "colab": {
          "base_uri": "https://localhost:8080/"
        },
        "id": "EVyK3FWwP1A6",
        "outputId": "f0209606-771b-4f69-db5d-52fc19557900"
      },
      "outputs": [
        {
          "output_type": "stream",
          "name": "stdout",
          "text": [
            "Predicted:  frog  frog  frog  frog \n"
          ]
        }
      ],
      "source": [
        "#predictions on test images\n",
        "_, predicted = torch.max(outputs, 1)\n",
        "\n",
        "print('Predicted: ', ' '.join(f'{classes[predicted[j]]:5s}'\n",
        "                              for j in range(4)))"
      ]
    },
    {
      "cell_type": "code",
      "execution_count": null,
      "metadata": {
        "colab": {
          "base_uri": "https://localhost:8080/"
        },
        "id": "wb6PNqH6P--8",
        "outputId": "c77196df-36bf-44a4-8de1-c5dddd3bb7f4"
      },
      "outputs": [
        {
          "output_type": "stream",
          "name": "stdout",
          "text": [
            "Accuracy of the network on the 10000 test images: 15 %\n"
          ]
        }
      ],
      "source": [
        "#as this is the testing step, no gradients or forward/backward operations need\n",
        "#to be considered\n",
        "correct = 0\n",
        "total = 0\n",
        "with torch.no_grad():\n",
        "    for data in testloader:\n",
        "        images, labels = data\n",
        "        # calculate outputs by running images through the network\n",
        "        outputs = model21(images)\n",
        "        # highest energy class chosen as prediction\n",
        "        _, predicted = torch.max(outputs.data, 1)\n",
        "        total += labels.size(0)\n",
        "        correct += (predicted == labels).sum().item()\n",
        "\n",
        "print(f'Accuracy of the network on the 10000 test images: {100 * correct // total} %')"
      ]
    },
    {
      "cell_type": "code",
      "execution_count": null,
      "metadata": {
        "id": "ryCWfRZhQBY1",
        "colab": {
          "base_uri": "https://localhost:8080/"
        },
        "outputId": "dfb36bd5-4b5c-4839-cc94-7bd1b4348d35"
      },
      "outputs": [
        {
          "output_type": "stream",
          "name": "stdout",
          "text": [
            "Accuracy for class: airplane is 86.1 %\n",
            "Accuracy for class: automobile is 0.0 %\n",
            "Accuracy for class: bird  is 0.0 %\n",
            "Accuracy for class: cat   is 0.0 %\n",
            "Accuracy for class: deer  is 0.0 %\n",
            "Accuracy for class: dog   is 0.2 %\n",
            "Accuracy for class: frog  is 72.2 %\n",
            "Accuracy for class: horse is 0.0 %\n",
            "Accuracy for class: ship  is 0.0 %\n",
            "Accuracy for class: truck is 0.0 %\n"
          ]
        }
      ],
      "source": [
        "#Predictions for each class are specified here on the testset\n",
        "correct_pred = {classname: 0 for classname in classes}\n",
        "total_pred = {classname: 0 for classname in classes}\n",
        "\n",
        "#no gradient operations required\n",
        "with torch.no_grad():\n",
        "    for data in testloader:\n",
        "        images, labels = data\n",
        "        outputs = model21(images)\n",
        "        _, predictions = torch.max(outputs, 1)\n",
        "        # collecting correct predictions for each class\n",
        "        for label, prediction in zip(labels, predictions):\n",
        "            if label == prediction:\n",
        "                correct_pred[classes[label]] += 1\n",
        "            total_pred[classes[label]] += 1\n",
        "\n",
        "\n",
        "# printing accuracy for each specified class\n",
        "for classname, correct_count in correct_pred.items():\n",
        "    accuracy = 100 * float(correct_count) / total_pred[classname]\n",
        "    print(f'Accuracy for class: {classname:5s} is {accuracy:.1f} %')"
      ]
    },
    {
      "cell_type": "markdown",
      "metadata": {
        "id": "AIPHDPYpPpaH"
      },
      "source": [
        "### Model 2 (2 layers)"
      ]
    },
    {
      "cell_type": "code",
      "execution_count": null,
      "metadata": {
        "id": "YadF7DiVPygQ"
      },
      "outputs": [],
      "source": [
        "#Repeated code snippet - See Model 1 Testing for more comments\n",
        "outputs = model32(images)"
      ]
    },
    {
      "cell_type": "code",
      "execution_count": 32,
      "metadata": {
        "colab": {
          "base_uri": "https://localhost:8080/"
        },
        "id": "o4Lk3g0iP0ll",
        "outputId": "ff8b6552-01c9-4ffa-9a8a-d83a8e47b1a6"
      },
      "outputs": [
        {
          "output_type": "stream",
          "name": "stdout",
          "text": [
            "Predicted:  automobile bird  cat   dog  \n"
          ]
        }
      ],
      "source": [
        "#Repeated code snippet - See Model 1 Testing for more comments\n",
        "_, predicted = torch.max(outputs, 1)\n",
        "\n",
        "print('Predicted: ', ' '.join(f'{classes[predicted[j]]:5s}'\n",
        "                              for j in range(4)))"
      ]
    },
    {
      "cell_type": "code",
      "execution_count": null,
      "metadata": {
        "colab": {
          "base_uri": "https://localhost:8080/"
        },
        "id": "u1pRCCPtP8It",
        "outputId": "1abe4eb7-9eaf-49a6-aefb-f3c3d742135c"
      },
      "outputs": [
        {
          "name": "stdout",
          "output_type": "stream",
          "text": [
            "Accuracy of the network on the 10000 test images: 7 %\n"
          ]
        }
      ],
      "source": [
        "#Repeated code snippet - See Model 1 Testing for more comments\n",
        "correct = 0\n",
        "total = 0\n",
        "with torch.no_grad():\n",
        "    for data in testloader:\n",
        "        images, labels = data\n",
        "        outputs = model2(images)\n",
        "        _, predicted = torch.max(outputs.data, 1)\n",
        "        total += labels.size(0)\n",
        "        correct += (predicted == labels).sum().item()\n",
        "\n",
        "print(f'Accuracy of the network on the 10000 test images: {100 * correct // total} %')"
      ]
    },
    {
      "cell_type": "code",
      "execution_count": null,
      "metadata": {
        "colab": {
          "base_uri": "https://localhost:8080/"
        },
        "id": "fZOTyLsCP7zB",
        "outputId": "4f61c52f-d454-42e6-c20c-71e5ff6154b3"
      },
      "outputs": [
        {
          "name": "stdout",
          "output_type": "stream",
          "text": [
            "Accuracy for class: airplane is 19.9 %\n",
            "Accuracy for class: automobile is 8.7 %\n",
            "Accuracy for class: bird  is 9.1 %\n",
            "Accuracy for class: cat   is 6.1 %\n",
            "Accuracy for class: deer  is 13.2 %\n",
            "Accuracy for class: dog   is 2.9 %\n",
            "Accuracy for class: frog  is 4.8 %\n",
            "Accuracy for class: horse is 1.4 %\n",
            "Accuracy for class: ship  is 2.4 %\n",
            "Accuracy for class: truck is 3.9 %\n"
          ]
        }
      ],
      "source": [
        "#Repeated code snippet - See Model 1 Testing for more comments\n",
        "correct_pred = {classname: 0 for classname in classes}\n",
        "total_pred = {classname: 0 for classname in classes}\n",
        "\n",
        "with torch.no_grad():\n",
        "    for data in testloader:\n",
        "        images, labels = data\n",
        "        outputs = model2(images)\n",
        "        _, predictions = torch.max(outputs, 1)\n",
        "        for label, prediction in zip(labels, predictions):\n",
        "            if label == prediction:\n",
        "                correct_pred[classes[label]] += 1\n",
        "            total_pred[classes[label]] += 1\n",
        "            \n",
        "for classname, correct_count in correct_pred.items():\n",
        "    accuracy = 100 * float(correct_count) / total_pred[classname]\n",
        "    print(f'Accuracy for class: {classname:5s} is {accuracy:.1f} %')"
      ]
    },
    {
      "cell_type": "markdown",
      "metadata": {
        "id": "MfbnglzmPt_6"
      },
      "source": [
        "### Model 3(4 layers)"
      ]
    },
    {
      "cell_type": "code",
      "execution_count": null,
      "metadata": {
        "id": "GU8avqy8PzeZ"
      },
      "outputs": [],
      "source": [
        "#Repeated code snippet - See Model 1 Testing for more comments\n",
        "outputs = model33(images)"
      ]
    },
    {
      "cell_type": "code",
      "execution_count": null,
      "metadata": {
        "colab": {
          "base_uri": "https://localhost:8080/"
        },
        "id": "nTlitABdhwu_",
        "outputId": "d7d680f5-a343-4e1d-bf6d-fd979e1ca09b"
      },
      "outputs": [
        {
          "output_type": "stream",
          "name": "stdout",
          "text": [
            "Predicted:  deer  deer  deer  deer \n"
          ]
        }
      ],
      "source": [
        "#Repeated code snippet - See Model 1 Testing for more comments\n",
        "_, predicted = torch.max(outputs, 1)\n",
        "\n",
        "print('Predicted: ', ' '.join(f'{classes[predicted[j]]:5s}'\n",
        "                              for j in range(4)))"
      ]
    },
    {
      "cell_type": "code",
      "execution_count": null,
      "metadata": {
        "colab": {
          "base_uri": "https://localhost:8080/"
        },
        "id": "TpYSv92HhdZ4",
        "outputId": "0e2c5b9e-84c1-486c-f5b8-1990b56bdbe8"
      },
      "outputs": [
        {
          "output_type": "stream",
          "name": "stdout",
          "text": [
            "Accuracy of the network on the 10000 test images: 9 %\n"
          ]
        }
      ],
      "source": [
        "#Repeated code snippet - See Model 1 Testing for more comments\n",
        "correct = 0\n",
        "total = 0\n",
        "with torch.no_grad():\n",
        "    for data in testloader:\n",
        "        images, labels = data\n",
        "        outputs = model33(images)\n",
        "        _, predicted = torch.max(outputs.data, 1)\n",
        "        total += labels.size(0)\n",
        "        correct += (predicted == labels).sum().item()\n",
        "\n",
        "print(f'Accuracy of the network on the 10000 test images: {100 * correct // total} %')"
      ]
    },
    {
      "cell_type": "code",
      "execution_count": null,
      "metadata": {
        "colab": {
          "base_uri": "https://localhost:8080/"
        },
        "id": "DEKBlYD4h2Dz",
        "outputId": "10832d70-b79d-4993-8e27-c93e3b2059a3"
      },
      "outputs": [
        {
          "output_type": "stream",
          "name": "stdout",
          "text": [
            "Accuracy for class: airplane is 4.1 %\n",
            "Accuracy for class: automobile is 0.0 %\n",
            "Accuracy for class: bird  is 2.7 %\n",
            "Accuracy for class: cat   is 0.0 %\n",
            "Accuracy for class: deer  is 87.0 %\n",
            "Accuracy for class: dog   is 0.0 %\n",
            "Accuracy for class: frog  is 0.0 %\n",
            "Accuracy for class: horse is 0.4 %\n",
            "Accuracy for class: ship  is 2.3 %\n",
            "Accuracy for class: truck is 0.0 %\n"
          ]
        }
      ],
      "source": [
        "#Repeated code snippet - See Model 1 Testing for more comments\n",
        "correct_pred = {classname: 0 for classname in classes}\n",
        "total_pred = {classname: 0 for classname in classes}\n",
        "\n",
        "\n",
        "with torch.no_grad():\n",
        "    for data in testloader:\n",
        "        images, labels = data\n",
        "        outputs = model33(images)\n",
        "        _, predictions = torch.max(outputs, 1)\n",
        "        for label, prediction in zip(labels, predictions):\n",
        "            if label == prediction:\n",
        "                correct_pred[classes[label]] += 1\n",
        "            total_pred[classes[label]] += 1\n",
        "\n",
        "for classname, correct_count in correct_pred.items():\n",
        "    accuracy = 100 * float(correct_count) / total_pred[classname]\n",
        "    print(f'Accuracy for class: {classname:5s} is {accuracy:.1f} %')"
      ]
    },
    {
      "cell_type": "markdown",
      "source": [
        "#### Model 4 (Best model)"
      ],
      "metadata": {
        "id": "7xArmgRvTuj-"
      }
    },
    {
      "cell_type": "code",
      "source": [
        "#Repeated code snippet - See Model 1 Testing for more comments\n",
        "outputs = model4(images)"
      ],
      "metadata": {
        "id": "HKiO1gcZTwcB"
      },
      "execution_count": null,
      "outputs": []
    },
    {
      "cell_type": "code",
      "source": [
        "#Repeated code snippet - See Model 1 Testing for more comments\n",
        "_, predicted = torch.max(outputs, 1)\n",
        "\n",
        "print('Predicted: ', ' '.join(f'{classes[predicted[j]]:5s}'\n",
        "                              for j in range(4)))"
      ],
      "metadata": {
        "colab": {
          "base_uri": "https://localhost:8080/"
        },
        "id": "JmBfLUQhTyHO",
        "outputId": "55283d10-4c08-4371-90d5-9150cda7a399"
      },
      "execution_count": null,
      "outputs": [
        {
          "output_type": "stream",
          "name": "stdout",
          "text": [
            "Predicted:  cat   automobile automobile ship \n"
          ]
        }
      ]
    },
    {
      "cell_type": "code",
      "source": [
        "#Repeated code snippet - See Model 1 Testing for more comments\n",
        "correct = 0\n",
        "total = 0\n",
        "with torch.no_grad():\n",
        "    for data in testloader:\n",
        "        images, labels = data\n",
        "        outputs = model4(images)\n",
        "        _, predicted = torch.max(outputs.data, 1)\n",
        "        total += labels.size(0)\n",
        "        correct += (predicted == labels).sum().item()\n",
        "\n",
        "print(f'Accuracy of the network on the 10000 test images: {100 * correct // total} %')"
      ],
      "metadata": {
        "colab": {
          "base_uri": "https://localhost:8080/"
        },
        "id": "HPJQBbcaT0ew",
        "outputId": "d46312cf-4445-48ad-f1dc-8ace79b0b37a"
      },
      "execution_count": null,
      "outputs": [
        {
          "output_type": "stream",
          "name": "stdout",
          "text": [
            "Accuracy of the network on the 10000 test images: 25 %\n"
          ]
        }
      ]
    },
    {
      "cell_type": "code",
      "source": [
        "#Repeated code snippet - See Model 1 Testing for more comments\n",
        "correct_pred = {classname: 0 for classname in classes}\n",
        "total_pred = {classname: 0 for classname in classes}\n",
        "\n",
        "with torch.no_grad():\n",
        "    for data in testloader:\n",
        "        images, labels = data\n",
        "        outputs = model4(images)\n",
        "        _, predictions = torch.max(outputs, 1)\n",
        "        for label, prediction in zip(labels, predictions):\n",
        "            if label == prediction:\n",
        "                correct_pred[classes[label]] += 1\n",
        "            total_pred[classes[label]] += 1\n",
        "\n",
        "for classname, correct_count in correct_pred.items():\n",
        "    accuracy = 100 * float(correct_count) / total_pred[classname]\n",
        "    print(f'Accuracy for class: {classname:5s} is {accuracy:.1f} %')"
      ],
      "metadata": {
        "colab": {
          "base_uri": "https://localhost:8080/"
        },
        "id": "QOkzbdadT1hh",
        "outputId": "fec14d9e-a2d6-45c7-a857-7417718f722f"
      },
      "execution_count": null,
      "outputs": [
        {
          "output_type": "stream",
          "name": "stdout",
          "text": [
            "Accuracy for class: airplane is 59.4 %\n",
            "Accuracy for class: automobile is 40.8 %\n",
            "Accuracy for class: bird  is 0.0 %\n",
            "Accuracy for class: cat   is 26.4 %\n",
            "Accuracy for class: deer  is 0.0 %\n",
            "Accuracy for class: dog   is 44.5 %\n",
            "Accuracy for class: frog  is 0.0 %\n",
            "Accuracy for class: horse is 0.0 %\n",
            "Accuracy for class: ship  is 23.8 %\n",
            "Accuracy for class: truck is 55.6 %\n"
          ]
        }
      ]
    },
    {
      "cell_type": "markdown",
      "source": [
        "## Experiments"
      ],
      "metadata": {
        "id": "6f9vhsiDdl4n"
      }
    },
    {
      "cell_type": "code",
      "source": [
        "x = F.softmax(self.fc1(x), dim=1)"
      ],
      "metadata": {
        "id": "9cjQhjRDdlde"
      },
      "execution_count": null,
      "outputs": []
    },
    {
      "cell_type": "code",
      "source": [
        " self.conv3 = nn.Conv2d(16, 32, kernel_size=(3, 3), stride=1, padding=0)\n",
        "        #self.pool = nn.MaxPool2d(2, 2)\n",
        "        self.batch3 = nn.BatchNorm2d(32, eps=1e-05, momentum=0.4, affine=True)\n",
        "        self.drop3 = nn.Dropout(p=0.5, inplace=False)\n",
        "\n",
        "        self.conv4 = nn.Conv2d(32, 64, kernel_size=(3, 3), stride=1, padding=0)\n",
        "        #self.pool = nn.MaxPool2d(2, 2)\n",
        "        self.batch4 = nn.BatchNorm2d(64, eps=1e-05, momentum=0.4, affine=True)\n",
        "        self.drop4 = nn.Dropout(p=0.5, inplace=False)\n",
        "\n",
        "        self.fc1 = nn.Linear(,10) # I\n",
        "        self.drop5 = nn.Dropout(p=0.5, inplace=False)"
      ],
      "metadata": {
        "id": "qAM-gsSwd717"
      },
      "execution_count": null,
      "outputs": []
    },
    {
      "cell_type": "code",
      "source": [
        "from torch.utils.data import dataset\n",
        "#lists to store information about loss and accuracy\n",
        "losses = []\n",
        "train_graph_losses = []\n",
        "epoch__acc = []\n",
        "train_acc = []\n",
        "for epoch in range(2):  # looping through dataset - epoch specification\n",
        "    #storing information - needed for plotting later \n",
        "    running_loss = 0.0\n",
        "    correct = 0.0\n",
        "    total = 0  \n",
        "    for i, data in enumerate(trainloader):\n",
        "        #data is stored as list of inputs with labels\n",
        "        inputs, labels = data\n",
        "        inputs, labels = inputs.to(device), labels.to(device)\n",
        "\n",
        "        # zero the parameter gradients\n",
        "        optimizer1.zero_grad()\n",
        "\n",
        "        # forward, backward and optimization step \n",
        "        outputs = model22(inputs)\n",
        "        loss = criterion(outputs, labels)\n",
        "        loss.backward()\n",
        "        optimizer1.step()\n",
        "\n",
        "\n",
        "        # print necessary information about loss, accuracy etc.\n",
        "        _, predicted = torch.max(outputs.data, 1)   \n",
        "        #total += labels.size(0)\n",
        "        #correct += (predicted == labels).sum().item()\n",
        "\n",
        "        #correct += (predicted == labels).sum().item()\n",
        "        running_loss += loss.item()\n",
        "        mean_train_accuracy += accuracy(outputs, labels)\n",
        "        #mean_train_accuracy = mean_train_accuracy / len(train_data)\n",
        "        #mean_train_accuracy = (100 * correct / total) \n",
        "        if i % 2000 == 1999:    # print every 2000 mini-batches\n",
        "            print(f'[{epoch + 1}, {i + 1:5d}] loss: {running_loss / 2000:.3f}')\n",
        "            print('Train Accuracy: %d %%' % (mean_train_accuracy)) \n",
        "            #storing loss and accuracy information for plotting\n",
        "            #dividing loss\n",
        "            running_loss = running_loss / 2000\n",
        "            running_loss = 0.0\n",
        "\n",
        "    train_graph_losses.append(running_loss)\n",
        "    train_acc.append(mean_train_accuracy)\n",
        "        \n",
        "    #print(\"Accuracy = {}\".format(mean_train_accuracy))\n",
        "              \n",
        "    #scheduler \n",
        "    scheduler.step()\n",
        "    #More print statements on loss after epoch\n",
        "    epoch_loss = running_loss / len(train_data)\n",
        "    losses.append(epoch_loss)\n",
        "    print(epoch_loss)\n",
        "    print('Training Accuracy: %d %%' % (mean_train_accuracy)) \n",
        "    \n",
        "print('Training Accuracy: %d %%' % (mean_train_accuracy)) \n",
        "print('Training Loss:' ,running_loss )       \n",
        "\n",
        "print('Finished Training')"
      ],
      "metadata": {
        "id": "BenIQqM1_cWR"
      },
      "execution_count": null,
      "outputs": []
    },
    {
      "cell_type": "markdown",
      "source": [
        "Old training and validation loop"
      ],
      "metadata": {
        "id": "wqeIsSW6iOK0"
      }
    },
    {
      "cell_type": "code",
      "source": [
        "#Repeated code snippet - See Model 1 Testing for more comments\n",
        "losses = []\n",
        "train_graph_losses = []\n",
        "epoch__acc = []\n",
        "train_acc = []\n",
        "for epoch in range(2): \n",
        "\n",
        "    running_loss = 0.0\n",
        "    correct = 0.0\n",
        "    total = 0  \n",
        "    for i, data in enumerate(trainloader):\n",
        "        inputs, labels = data\n",
        "\n",
        "        optimizer3.zero_grad()\n",
        "\n",
        "        outputs = model33(inputs)\n",
        "        loss = criterion(outputs, labels)\n",
        "        loss.backward()\n",
        "        optimizer3.step()\n",
        "\n",
        "        running_loss += loss.item()\n",
        "        _, predicted = torch.max(outputs.data, 1)   \n",
        "        total += labels.size(0) \n",
        "        correct += (predicted == labels).sum().item()\n",
        "        mean_train_accuracy = (100 * correct / total)  \n",
        "        if i % 2000 == 1999:    # print every 2000 mini-batches\n",
        "            print(f'[{epoch + 1}, {i + 1:5d}] loss: {running_loss / 2000:.3f}')\n",
        "            print('Train Accuracy: %d %%' % (mean_train_accuracy)) \n",
        "            #Storing accuracy and loss information\n",
        "            running_loss = running_loss / 2000\n",
        "            train_graph_losses.append(running_loss)\n",
        "            train_acc.append(mean_train_accuracy)\n",
        "            running_loss = 0.0\n",
        "    \n",
        "                     \n",
        "\n",
        "    scheduler.step()\n",
        "\n",
        "    epoch_loss = running_loss / len(train_data)\n",
        "    losses.append(epoch_loss)\n",
        "    print(epoch_loss)\n",
        "    print('Training Accuracy: %d %%' % (mean_train_accuracy)) \n",
        "    \n",
        "\n",
        "print('Finished Training')"
      ],
      "metadata": {
        "id": "E-X0qBgAiQbz"
      },
      "execution_count": null,
      "outputs": []
    },
    {
      "cell_type": "code",
      "source": [
        "total_epochs = notebook.tqdm(range(num_epochs))\n",
        "train_graph_losses = []\n",
        "train_acc = []\n",
        "for epoch in range(num_epochs):  \n",
        "    running_loss = 0.0\n",
        "    correct = 0.0\n",
        "    total = 0  \n",
        "    for i, (inputs,labels) in enumerate(trainloader):\n",
        "        inputs,labels = data\n",
        "        inputs, labels = inputs.to(device), labels.to(device)\n",
        "        #inputs, labels = inputs.to(device), labels.to(device)\n",
        "\n",
        "        optimizer1.zero_grad()\n",
        "\n",
        "        outputs = model22(inputs)\n",
        "        loss = criterion(outputs, labels)\n",
        "        loss.backward()\n",
        "        optimizer1.step()\n",
        "        \n",
        "        running_loss += loss.item()\n",
        "        _, predicted = torch.max(outputs.data, 1)   \n",
        "        total += labels.size(0)\n",
        "        correct += (predicted == labels).sum().item()\n",
        "\n",
        "        #if i % 2000 == 1999:   \n",
        "            #print(f'[{epoch + 1}, {i + 1:5d}] loss: {running_loss / 2000:.3f}')\n",
        "            #print('Train Accuracy: %d %%' % (mean_train_accuracy)) \n",
        "            #storing loss and accuracy information for plotting\n",
        "            #running_loss = running_loss / 2000\n",
        "        train_graph_losses.append(running_loss)\n",
        "        train_acc.append(mean_train_accuracy)\n",
        "            #running_loss = 0.0\n",
        "\n",
        "        #if (i + 1) % 10 == 0:\n",
        "          #total_epochs.set_description(\n",
        "            #'Epoch [{}/{}], Step [{}/{}], Loss: {:.4f}'.format(\n",
        "                #epoch + 1, num_epochs, i + 1, len(trainloader), loss.item()))\n",
        "     \n",
        "    #running_loss=running_loss/len(trainloader)\n",
        "    #mean_train_accuracy = (100 * correct / total) \n",
        "  \n",
        "    #train_graph_losses.append(running_loss)\n",
        "    #train_acc.append(mean_train_accuracy) \n",
        "\n",
        "    scheduler.step()  \n",
        "    \n",
        "print('Validation Accuracy: %d %%' % (mean_train_accuracy)) \n",
        "print('Validation Loss:'  ,mean_train_loss )      \n",
        "print('Finished Training')"
      ],
      "metadata": {
        "id": "s7z6xCbQz6v9"
      },
      "execution_count": null,
      "outputs": []
    },
    {
      "cell_type": "code",
      "source": [
        "#Repeated code snippet - See Model 1 Testing for more comments\n",
        "val_acc = []\n",
        "val_graph_losses = []     \n",
        "for epoch in range(5):  # loop over the dataset multiple times\n",
        "  correct = 0                                               \n",
        "  total = 0                                                 \n",
        "  running_loss = 0.0   \n",
        "  model4.eval()                                              \n",
        "  with torch.no_grad():                                     \n",
        "    for i, data in enumerate(valloader):\n",
        "      inputs, labels = data                             \n",
        "\n",
        "      outputs = model4(inputs)                           \n",
        "      loss = criterion(outputs, labels)                 \n",
        "      _, predicted = torch.max(outputs.data, 1)         \n",
        "      total += labels.size(0)                           \n",
        "      correct += (predicted == labels).sum().item()     \n",
        "      running_loss += loss.item()         \n",
        "      mean_val_accuracy = (100 * correct / total)               \n",
        "      mean_val_loss = ( running_loss )    \n",
        "\n",
        "      if i % 2000 == 1999:    # print every 2000 mini-batches\n",
        "              print(f'[{epoch + 1}, {i + 1:5d}] loss: {running_loss / 2000:.3f}')\n",
        "              print('Validation Accuracy: %d %%' % (mean_val_accuracy))\n",
        "              running_loss = running_loss / 2000\n",
        "              val_graph_losses.append(running_loss) \n",
        "              val_acc.append(mean_val_accuracy)\n",
        "              running_loss = 0.0\n",
        "                                               \n",
        "  print('Validation Accuracy: %d %%' % (mean_val_accuracy)) \n",
        "  print('Validation Loss:'  ,mean_val_loss ) "
      ],
      "metadata": {
        "id": "FQGDkDmJiQ4v"
      },
      "execution_count": null,
      "outputs": []
    },
    {
      "cell_type": "code",
      "source": [
        "from torch.utils.tensorboard import SummaryWriter\n",
        "\n",
        "# Writer will output to ./runs/ directory by default\n",
        "writer = SummaryWriter()\n",
        "\n",
        "#training loop\n",
        "writer.add_scalar('Loss/train', running_loss, global_step)\n",
        "\n",
        "#testing\n",
        "writer.add_scalar('Loss/val', val_running_loss, global_step)\n",
        "\n",
        "writer.close()\n"
      ],
      "metadata": {
        "id": "leTWisKF0aZr"
      },
      "execution_count": null,
      "outputs": []
    }
  ],
  "metadata": {
    "colab": {
      "collapsed_sections": [
        "3EHRZYUlOaAK"
      ],
      "name": "NeuralNetworks(CW_215732).ipynb",
      "provenance": [],
      "machine_shape": "hm",
      "toc_visible": true
    },
    "kernelspec": {
      "display_name": "Python 3",
      "name": "python3"
    },
    "language_info": {
      "name": "python"
    },
    "accelerator": "GPU",
    "widgets": {
      "application/vnd.jupyter.widget-state+json": {
        "38ebeadd937e46be94318e935f926b4f": {
          "model_module": "@jupyter-widgets/controls",
          "model_name": "HBoxModel",
          "model_module_version": "1.5.0",
          "state": {
            "_dom_classes": [],
            "_model_module": "@jupyter-widgets/controls",
            "_model_module_version": "1.5.0",
            "_model_name": "HBoxModel",
            "_view_count": null,
            "_view_module": "@jupyter-widgets/controls",
            "_view_module_version": "1.5.0",
            "_view_name": "HBoxView",
            "box_style": "",
            "children": [
              "IPY_MODEL_871ee40dfdc9445eb231d89fe0969c39",
              "IPY_MODEL_fa634e5aeac8430b93eb33fd8e6e23ea",
              "IPY_MODEL_3ee7ca61536d4ae2bba7e4f6a2de1c12"
            ],
            "layout": "IPY_MODEL_bf339bdd8e634c9c9e96328f1f7fa29f"
          }
        },
        "871ee40dfdc9445eb231d89fe0969c39": {
          "model_module": "@jupyter-widgets/controls",
          "model_name": "HTMLModel",
          "model_module_version": "1.5.0",
          "state": {
            "_dom_classes": [],
            "_model_module": "@jupyter-widgets/controls",
            "_model_module_version": "1.5.0",
            "_model_name": "HTMLModel",
            "_view_count": null,
            "_view_module": "@jupyter-widgets/controls",
            "_view_module_version": "1.5.0",
            "_view_name": "HTMLView",
            "description": "",
            "description_tooltip": null,
            "layout": "IPY_MODEL_81f2da93c89e4386ab1a3d9cd2126ea9",
            "placeholder": "​",
            "style": "IPY_MODEL_9eb56b0a837e43c3b19d20b5ff6a8198",
            "value": ""
          }
        },
        "fa634e5aeac8430b93eb33fd8e6e23ea": {
          "model_module": "@jupyter-widgets/controls",
          "model_name": "FloatProgressModel",
          "model_module_version": "1.5.0",
          "state": {
            "_dom_classes": [],
            "_model_module": "@jupyter-widgets/controls",
            "_model_module_version": "1.5.0",
            "_model_name": "FloatProgressModel",
            "_view_count": null,
            "_view_module": "@jupyter-widgets/controls",
            "_view_module_version": "1.5.0",
            "_view_name": "ProgressView",
            "bar_style": "success",
            "description": "",
            "description_tooltip": null,
            "layout": "IPY_MODEL_3602e3da4016417a83f623fb335d1662",
            "max": 170498071,
            "min": 0,
            "orientation": "horizontal",
            "style": "IPY_MODEL_0d4664684cbc42148e159ae7a7e16010",
            "value": 170498071
          }
        },
        "3ee7ca61536d4ae2bba7e4f6a2de1c12": {
          "model_module": "@jupyter-widgets/controls",
          "model_name": "HTMLModel",
          "model_module_version": "1.5.0",
          "state": {
            "_dom_classes": [],
            "_model_module": "@jupyter-widgets/controls",
            "_model_module_version": "1.5.0",
            "_model_name": "HTMLModel",
            "_view_count": null,
            "_view_module": "@jupyter-widgets/controls",
            "_view_module_version": "1.5.0",
            "_view_name": "HTMLView",
            "description": "",
            "description_tooltip": null,
            "layout": "IPY_MODEL_f0fa6380de99417f94105099cf3709e9",
            "placeholder": "​",
            "style": "IPY_MODEL_353e15200b79435dbc47785fa52a3d75",
            "value": " 170499072/? [00:05&lt;00:00, 32734297.54it/s]"
          }
        },
        "bf339bdd8e634c9c9e96328f1f7fa29f": {
          "model_module": "@jupyter-widgets/base",
          "model_name": "LayoutModel",
          "model_module_version": "1.2.0",
          "state": {
            "_model_module": "@jupyter-widgets/base",
            "_model_module_version": "1.2.0",
            "_model_name": "LayoutModel",
            "_view_count": null,
            "_view_module": "@jupyter-widgets/base",
            "_view_module_version": "1.2.0",
            "_view_name": "LayoutView",
            "align_content": null,
            "align_items": null,
            "align_self": null,
            "border": null,
            "bottom": null,
            "display": null,
            "flex": null,
            "flex_flow": null,
            "grid_area": null,
            "grid_auto_columns": null,
            "grid_auto_flow": null,
            "grid_auto_rows": null,
            "grid_column": null,
            "grid_gap": null,
            "grid_row": null,
            "grid_template_areas": null,
            "grid_template_columns": null,
            "grid_template_rows": null,
            "height": null,
            "justify_content": null,
            "justify_items": null,
            "left": null,
            "margin": null,
            "max_height": null,
            "max_width": null,
            "min_height": null,
            "min_width": null,
            "object_fit": null,
            "object_position": null,
            "order": null,
            "overflow": null,
            "overflow_x": null,
            "overflow_y": null,
            "padding": null,
            "right": null,
            "top": null,
            "visibility": null,
            "width": null
          }
        },
        "81f2da93c89e4386ab1a3d9cd2126ea9": {
          "model_module": "@jupyter-widgets/base",
          "model_name": "LayoutModel",
          "model_module_version": "1.2.0",
          "state": {
            "_model_module": "@jupyter-widgets/base",
            "_model_module_version": "1.2.0",
            "_model_name": "LayoutModel",
            "_view_count": null,
            "_view_module": "@jupyter-widgets/base",
            "_view_module_version": "1.2.0",
            "_view_name": "LayoutView",
            "align_content": null,
            "align_items": null,
            "align_self": null,
            "border": null,
            "bottom": null,
            "display": null,
            "flex": null,
            "flex_flow": null,
            "grid_area": null,
            "grid_auto_columns": null,
            "grid_auto_flow": null,
            "grid_auto_rows": null,
            "grid_column": null,
            "grid_gap": null,
            "grid_row": null,
            "grid_template_areas": null,
            "grid_template_columns": null,
            "grid_template_rows": null,
            "height": null,
            "justify_content": null,
            "justify_items": null,
            "left": null,
            "margin": null,
            "max_height": null,
            "max_width": null,
            "min_height": null,
            "min_width": null,
            "object_fit": null,
            "object_position": null,
            "order": null,
            "overflow": null,
            "overflow_x": null,
            "overflow_y": null,
            "padding": null,
            "right": null,
            "top": null,
            "visibility": null,
            "width": null
          }
        },
        "9eb56b0a837e43c3b19d20b5ff6a8198": {
          "model_module": "@jupyter-widgets/controls",
          "model_name": "DescriptionStyleModel",
          "model_module_version": "1.5.0",
          "state": {
            "_model_module": "@jupyter-widgets/controls",
            "_model_module_version": "1.5.0",
            "_model_name": "DescriptionStyleModel",
            "_view_count": null,
            "_view_module": "@jupyter-widgets/base",
            "_view_module_version": "1.2.0",
            "_view_name": "StyleView",
            "description_width": ""
          }
        },
        "3602e3da4016417a83f623fb335d1662": {
          "model_module": "@jupyter-widgets/base",
          "model_name": "LayoutModel",
          "model_module_version": "1.2.0",
          "state": {
            "_model_module": "@jupyter-widgets/base",
            "_model_module_version": "1.2.0",
            "_model_name": "LayoutModel",
            "_view_count": null,
            "_view_module": "@jupyter-widgets/base",
            "_view_module_version": "1.2.0",
            "_view_name": "LayoutView",
            "align_content": null,
            "align_items": null,
            "align_self": null,
            "border": null,
            "bottom": null,
            "display": null,
            "flex": null,
            "flex_flow": null,
            "grid_area": null,
            "grid_auto_columns": null,
            "grid_auto_flow": null,
            "grid_auto_rows": null,
            "grid_column": null,
            "grid_gap": null,
            "grid_row": null,
            "grid_template_areas": null,
            "grid_template_columns": null,
            "grid_template_rows": null,
            "height": null,
            "justify_content": null,
            "justify_items": null,
            "left": null,
            "margin": null,
            "max_height": null,
            "max_width": null,
            "min_height": null,
            "min_width": null,
            "object_fit": null,
            "object_position": null,
            "order": null,
            "overflow": null,
            "overflow_x": null,
            "overflow_y": null,
            "padding": null,
            "right": null,
            "top": null,
            "visibility": null,
            "width": null
          }
        },
        "0d4664684cbc42148e159ae7a7e16010": {
          "model_module": "@jupyter-widgets/controls",
          "model_name": "ProgressStyleModel",
          "model_module_version": "1.5.0",
          "state": {
            "_model_module": "@jupyter-widgets/controls",
            "_model_module_version": "1.5.0",
            "_model_name": "ProgressStyleModel",
            "_view_count": null,
            "_view_module": "@jupyter-widgets/base",
            "_view_module_version": "1.2.0",
            "_view_name": "StyleView",
            "bar_color": null,
            "description_width": ""
          }
        },
        "f0fa6380de99417f94105099cf3709e9": {
          "model_module": "@jupyter-widgets/base",
          "model_name": "LayoutModel",
          "model_module_version": "1.2.0",
          "state": {
            "_model_module": "@jupyter-widgets/base",
            "_model_module_version": "1.2.0",
            "_model_name": "LayoutModel",
            "_view_count": null,
            "_view_module": "@jupyter-widgets/base",
            "_view_module_version": "1.2.0",
            "_view_name": "LayoutView",
            "align_content": null,
            "align_items": null,
            "align_self": null,
            "border": null,
            "bottom": null,
            "display": null,
            "flex": null,
            "flex_flow": null,
            "grid_area": null,
            "grid_auto_columns": null,
            "grid_auto_flow": null,
            "grid_auto_rows": null,
            "grid_column": null,
            "grid_gap": null,
            "grid_row": null,
            "grid_template_areas": null,
            "grid_template_columns": null,
            "grid_template_rows": null,
            "height": null,
            "justify_content": null,
            "justify_items": null,
            "left": null,
            "margin": null,
            "max_height": null,
            "max_width": null,
            "min_height": null,
            "min_width": null,
            "object_fit": null,
            "object_position": null,
            "order": null,
            "overflow": null,
            "overflow_x": null,
            "overflow_y": null,
            "padding": null,
            "right": null,
            "top": null,
            "visibility": null,
            "width": null
          }
        },
        "353e15200b79435dbc47785fa52a3d75": {
          "model_module": "@jupyter-widgets/controls",
          "model_name": "DescriptionStyleModel",
          "model_module_version": "1.5.0",
          "state": {
            "_model_module": "@jupyter-widgets/controls",
            "_model_module_version": "1.5.0",
            "_model_name": "DescriptionStyleModel",
            "_view_count": null,
            "_view_module": "@jupyter-widgets/base",
            "_view_module_version": "1.2.0",
            "_view_name": "StyleView",
            "description_width": ""
          }
        }
      }
    }
  },
  "nbformat": 4,
  "nbformat_minor": 0
}